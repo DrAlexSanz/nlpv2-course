{
  "nbformat": 4,
  "nbformat_minor": 0,
  "metadata": {
    "colab": {
      "name": "Text sumarization with libraries",
      "provenance": [],
      "authorship_tag": "ABX9TyMAZSfXWgkHAc/Pjb9SL1+T",
      "include_colab_link": true
    },
    "kernelspec": {
      "name": "python3",
      "display_name": "Python 3"
    },
    "language_info": {
      "name": "python"
    }
  },
  "cells": [
    {
      "cell_type": "markdown",
      "metadata": {
        "id": "view-in-github",
        "colab_type": "text"
      },
      "source": [
        "<a href=\"https://colab.research.google.com/github/DrAlexSanz/nlpv2-course/blob/master/Text_sumarization_with_libraries.ipynb\" target=\"_parent\"><img src=\"https://colab.research.google.com/assets/colab-badge.svg\" alt=\"Open In Colab\"/></a>"
      ]
    },
    {
      "cell_type": "markdown",
      "source": [
        "Let's do summarization with a library. In a normal application I should try to summarize documents in a few different ways and then choose."
      ],
      "metadata": {
        "id": "EkIyGFIgc9aV"
      }
    },
    {
      "cell_type": "code",
      "execution_count": null,
      "metadata": {
        "id": "zah84cTG70p-",
        "outputId": "295fa7c3-b3eb-478e-bc87-40b9bfc9a654",
        "colab": {
          "base_uri": "https://localhost:8080/"
        }
      },
      "outputs": [
        {
          "output_type": "stream",
          "name": "stdout",
          "text": [
            "Looking in indexes: https://pypi.org/simple, https://us-python.pkg.dev/colab-wheels/public/simple/\n",
            "Requirement already satisfied: sumy in /usr/local/lib/python3.7/dist-packages (0.10.0)\n",
            "Requirement already satisfied: pycountry>=18.2.23 in /usr/local/lib/python3.7/dist-packages (from sumy) (22.3.5)\n",
            "Requirement already satisfied: requests>=2.7.0 in /usr/local/lib/python3.7/dist-packages (from sumy) (2.23.0)\n",
            "Requirement already satisfied: docopt<0.7,>=0.6.1 in /usr/local/lib/python3.7/dist-packages (from sumy) (0.6.2)\n",
            "Requirement already satisfied: breadability>=0.1.20 in /usr/local/lib/python3.7/dist-packages (from sumy) (0.1.20)\n",
            "Requirement already satisfied: nltk>=3.0.2 in /usr/local/lib/python3.7/dist-packages (from sumy) (3.7)\n",
            "Requirement already satisfied: chardet in /usr/local/lib/python3.7/dist-packages (from breadability>=0.1.20->sumy) (3.0.4)\n",
            "Requirement already satisfied: lxml>=2.0 in /usr/local/lib/python3.7/dist-packages (from breadability>=0.1.20->sumy) (4.9.1)\n",
            "Requirement already satisfied: click in /usr/local/lib/python3.7/dist-packages (from nltk>=3.0.2->sumy) (7.1.2)\n",
            "Requirement already satisfied: joblib in /usr/local/lib/python3.7/dist-packages (from nltk>=3.0.2->sumy) (1.1.0)\n",
            "Requirement already satisfied: regex>=2021.8.3 in /usr/local/lib/python3.7/dist-packages (from nltk>=3.0.2->sumy) (2022.6.2)\n",
            "Requirement already satisfied: tqdm in /usr/local/lib/python3.7/dist-packages (from nltk>=3.0.2->sumy) (4.64.0)\n",
            "Requirement already satisfied: setuptools in /usr/local/lib/python3.7/dist-packages (from pycountry>=18.2.23->sumy) (57.4.0)\n",
            "Requirement already satisfied: urllib3!=1.25.0,!=1.25.1,<1.26,>=1.21.1 in /usr/local/lib/python3.7/dist-packages (from requests>=2.7.0->sumy) (1.24.3)\n",
            "Requirement already satisfied: certifi>=2017.4.17 in /usr/local/lib/python3.7/dist-packages (from requests>=2.7.0->sumy) (2022.6.15)\n",
            "Requirement already satisfied: idna<3,>=2.5 in /usr/local/lib/python3.7/dist-packages (from requests>=2.7.0->sumy) (2.10)\n"
          ]
        },
        {
          "output_type": "stream",
          "name": "stderr",
          "text": [
            "[nltk_data] Downloading package punkt to /root/nltk_data...\n",
            "[nltk_data]   Package punkt is already up-to-date!\n"
          ]
        },
        {
          "output_type": "execute_result",
          "data": {
            "text/plain": [
              "True"
            ]
          },
          "metadata": {},
          "execution_count": 42
        }
      ],
      "source": [
        "!pip install sumy\n",
        "from sumy.summarizers.text_rank import TextRankSummarizer\n",
        "from sumy.summarizers.lsa import LsaSummarizer\n",
        "from sumy.parsers.plaintext import PlaintextParser\n",
        "from sumy.nlp.tokenizers import Tokenizer\n",
        "\n",
        "import pandas as pd\n",
        "import textwrap\n",
        "\n",
        "import nltk\n",
        "nltk.download('punkt')"
      ]
    },
    {
      "cell_type": "code",
      "source": [
        "# Get the data\n",
        "\n",
        "!wget https://lazyprogrammer.me/course_files/nlp/bbc_text_cls.csv"
      ],
      "metadata": {
        "colab": {
          "base_uri": "https://localhost:8080/"
        },
        "id": "4nMijnrt8VLl",
        "outputId": "00e6327b-575b-4580-9b84-42611d3abed2"
      },
      "execution_count": null,
      "outputs": [
        {
          "output_type": "stream",
          "name": "stdout",
          "text": [
            "--2022-08-14 14:45:04--  https://lazyprogrammer.me/course_files/nlp/bbc_text_cls.csv\n",
            "Resolving lazyprogrammer.me (lazyprogrammer.me)... 104.21.23.210, 172.67.213.166, 2606:4700:3030::ac43:d5a6, ...\n",
            "Connecting to lazyprogrammer.me (lazyprogrammer.me)|104.21.23.210|:443... connected.\n",
            "HTTP request sent, awaiting response... 200 OK\n",
            "Length: 5085081 (4.8M) [text/csv]\n",
            "Saving to: ‘bbc_text_cls.csv.5’\n",
            "\n",
            "\rbbc_text_cls.csv.5    0%[                    ]       0  --.-KB/s               \rbbc_text_cls.csv.5  100%[===================>]   4.85M  --.-KB/s    in 0.02s   \n",
            "\n",
            "2022-08-14 14:45:04 (227 MB/s) - ‘bbc_text_cls.csv.5’ saved [5085081/5085081]\n",
            "\n"
          ]
        }
      ]
    },
    {
      "cell_type": "code",
      "source": [
        "df = pd.read_csv(\"bbc_text_cls.csv\")"
      ],
      "metadata": {
        "id": "Tc0-zXa28gP8"
      },
      "execution_count": null,
      "outputs": []
    },
    {
      "cell_type": "code",
      "source": [
        "# My dataset is just one article\n",
        "doc = df[df[\"labels\"] == \"business\"][\"text\"].sample(random_state = 42)"
      ],
      "metadata": {
        "id": "KVbBViyU8wKO"
      },
      "execution_count": null,
      "outputs": []
    },
    {
      "cell_type": "code",
      "source": [
        "summarizer = TextRankSummarizer()\n",
        "\n",
        "parser = PlaintextParser.from_string(doc.iloc[0].split(\"\\n\", 1)[1], Tokenizer(\"english\"))\n",
        "\n",
        "summary = summarizer(parser.document, sentences_count = 5)"
      ],
      "metadata": {
        "id": "wWULkyZ6wPjg"
      },
      "execution_count": null,
      "outputs": []
    },
    {
      "cell_type": "code",
      "source": [
        "summary # Should be similar but not necessarily equal to the previous approach"
      ],
      "metadata": {
        "colab": {
          "base_uri": "https://localhost:8080/"
        },
        "id": "RzHb6InY8oiV",
        "outputId": "d7b92db6-73e8-4fca-b394-d10555b802c6"
      },
      "execution_count": null,
      "outputs": [
        {
          "output_type": "execute_result",
          "data": {
            "text/plain": [
              "(<Sentence: Retail sales dropped by 1% on the month in December, after a 0.6% rise in November, the Office for National Statistics (ONS) said.>,\n",
              " <Sentence: The ONS revised the annual 2004 rate of growth down from the 5.9% estimated in November to 3.2%.>,\n",
              " <Sentence: The ONS echoed an earlier caution from Bank of England governor Mervyn King not to read too much into the poor December figures.>,\n",
              " <Sentence: Some analysts put a positive gloss on the figures, pointing out that the non-seasonally-adjusted figures showed a performance comparable with 2003.>,\n",
              " <Sentence: The November-December jump last year was roughly comparable with recent averages, although some way below the serious booms seen in the 1990s.>)"
            ]
          },
          "metadata": {},
          "execution_count": 47
        }
      ]
    },
    {
      "cell_type": "code",
      "source": [
        "for s in summary:\n",
        "    print(textwrap.fill(str(s), replace_whitespace=False, fix_sentence_endings=True))"
      ],
      "metadata": {
        "id": "sQY-x1Oo9AjE",
        "outputId": "86852150-26ce-4b33-8c96-9f66cb7a74df",
        "colab": {
          "base_uri": "https://localhost:8080/"
        }
      },
      "execution_count": null,
      "outputs": [
        {
          "output_type": "stream",
          "name": "stdout",
          "text": [
            "Retail sales dropped by 1% on the month in December, after a 0.6% rise\n",
            "in November, the Office for National Statistics (ONS) said.\n",
            "The ONS revised the annual 2004 rate of growth down from the 5.9%\n",
            "estimated in November to 3.2%.\n",
            "The ONS echoed an earlier caution from Bank of England governor Mervyn\n",
            "King not to read too much into the poor December figures.\n",
            "Some analysts put a positive gloss on the figures, pointing out that\n",
            "the non-seasonally-adjusted figures showed a performance comparable\n",
            "with 2003.\n",
            "The November-December jump last year was roughly comparable with\n",
            "recent averages, although some way below the serious booms seen in the\n",
            "1990s.\n"
          ]
        }
      ]
    },
    {
      "cell_type": "code",
      "source": [
        "# Another summarizer. And it's different, as expected.\n",
        "\n",
        "summarizer_lsa = LsaSummarizer()\n",
        "\n",
        "parser_lsa = PlaintextParser.from_string(doc.iloc[0].split(\"\\n\", 1)[1], Tokenizer(\"english\"))\n",
        "\n",
        "summary_lsa = summarizer_lsa(parser_lsa.document, sentences_count = 5)\n",
        "\n",
        "for s in summary_lsa:\n",
        "    print(textwrap.fill(str(s), replace_whitespace=False, fix_sentence_endings=True))"
      ],
      "metadata": {
        "id": "PJZO_SuLi-tE",
        "colab": {
          "base_uri": "https://localhost:8080/"
        },
        "outputId": "fd09af9b-cff5-4d78-e801-1b694fcc6daa"
      },
      "execution_count": null,
      "outputs": [
        {
          "output_type": "stream",
          "name": "stdout",
          "text": [
            "UK retail sales fell in December, failing to meet expectations and\n",
            "making it by some counts the worst Christmas since 1981.\n",
            "Morrisons, Woolworths, House of Fraser, Marks & Spencer and Big Food\n",
            "all said that the festive period was disappointing.\n",
            "And a British Retail Consortium survey found that Christmas 2004 was\n",
            "the worst for 10 years.\n",
            "Yet, other retailers - including HMV, Monsoon, Jessops, Body Shop and\n",
            "Tesco - reported that festive sales were well up on last year.\n",
            "Investec chief economist Philip Shaw said he did not expect the poor\n",
            "retail figures to have any immediate effect on interest rates.\n"
          ]
        }
      ]
    },
    {
      "cell_type": "code",
      "source": [
        "# Use gensim and see how it changes so much\n",
        "from gensim.summarization.summarizer import summarize\n",
        "summary = summarize(doc.iloc[0].split(\"\\n\", 1)[1])\n",
        "print(textwrap.fill(summary, replace_whitespace=False, fix_sentence_endings=True))"
      ],
      "metadata": {
        "id": "HrDs8zIhYHWR",
        "outputId": "fc6e108d-84e2-41eb-f79d-6f41152102c5",
        "colab": {
          "base_uri": "https://localhost:8080/"
        }
      },
      "execution_count": null,
      "outputs": [
        {
          "output_type": "stream",
          "name": "stdout",
          "text": [
            "Retail sales dropped by 1% on the month in December, after a 0.6% rise\n",
            "in November, the Office for National Statistics (ONS) said.\n",
            "The ONS\n",
            "echoed an earlier caution from Bank of England governor Mervyn King\n",
            "not to read too much into the poor December figures.\n",
            "\"The retail sales\n",
            "figures are very weak, but as Bank of England governor Mervyn King\n",
            "indicated last night, you don't really get an accurate impression of\n",
            "Christmas trading until about Easter,\" said Mr Shaw.\n"
          ]
        }
      ]
    }
  ]
}