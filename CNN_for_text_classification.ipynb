{
  "nbformat": 4,
  "nbformat_minor": 0,
  "metadata": {
    "colab": {
      "name": "CNN for text classification",
      "provenance": [],
      "authorship_tag": "ABX9TyNWFdyY3AURgI5dM3VOwZdj",
      "include_colab_link": true
    },
    "kernelspec": {
      "name": "python3",
      "display_name": "Python 3"
    },
    "language_info": {
      "name": "python"
    },
    "accelerator": "GPU",
    "gpuClass": "standard"
  },
  "cells": [
    {
      "cell_type": "markdown",
      "metadata": {
        "id": "view-in-github",
        "colab_type": "text"
      },
      "source": [
        "<a href=\"https://colab.research.google.com/github/DrAlexSanz/nlpv2-course/blob/master/CNN_for_text_classification.ipynb\" target=\"_parent\"><img src=\"https://colab.research.google.com/assets/colab-badge.svg\" alt=\"Open In Colab\"/></a>"
      ]
    },
    {
      "cell_type": "code",
      "execution_count": 1,
      "metadata": {
        "id": "zah84cTG70p-"
      },
      "outputs": [],
      "source": [
        "import numpy as np\n",
        "import pandas as pd\n",
        "import tensorflow as tf\n",
        "import matplotlib.pyplot as plt\n",
        "from sklearn.model_selection import train_test_split\n",
        "\n",
        "from tensorflow.keras.preprocessing.text import Tokenizer\n",
        "from tensorflow.keras.preprocessing.sequence import pad_sequences\n",
        "from tensorflow.keras.layers import Input, Dense, GlobalMaxPooling1D, Conv1D, MaxPooling1D, Embedding\n",
        "from tensorflow.keras.models import Model\n",
        "from tensorflow.keras.losses import SparseCategoricalCrossentropy"
      ]
    },
    {
      "cell_type": "code",
      "source": [
        "# Get the data\n",
        "\n",
        "!wget https://lazyprogrammer.me/course_files/nlp/bbc_text_cls.csv"
      ],
      "metadata": {
        "colab": {
          "base_uri": "https://localhost:8080/"
        },
        "id": "4nMijnrt8VLl",
        "outputId": "a11b2651-0197-48e4-ae52-911c2c2a2a4a"
      },
      "execution_count": 2,
      "outputs": [
        {
          "output_type": "stream",
          "name": "stdout",
          "text": [
            "--2022-08-28 17:24:38--  https://lazyprogrammer.me/course_files/nlp/bbc_text_cls.csv\n",
            "Resolving lazyprogrammer.me (lazyprogrammer.me)... 172.67.213.166, 104.21.23.210, 2606:4700:3030::ac43:d5a6, ...\n",
            "Connecting to lazyprogrammer.me (lazyprogrammer.me)|172.67.213.166|:443... connected.\n",
            "HTTP request sent, awaiting response... 200 OK\n",
            "Length: 5085081 (4.8M) [text/csv]\n",
            "Saving to: ‘bbc_text_cls.csv.1’\n",
            "\n",
            "bbc_text_cls.csv.1  100%[===================>]   4.85M  2.98MB/s    in 1.6s    \n",
            "\n",
            "2022-08-28 17:24:40 (2.98 MB/s) - ‘bbc_text_cls.csv.1’ saved [5085081/5085081]\n",
            "\n"
          ]
        }
      ]
    },
    {
      "cell_type": "code",
      "source": [
        "df = pd.read_csv(\"bbc_text_cls.csv\")"
      ],
      "metadata": {
        "id": "Tc0-zXa28gP8"
      },
      "execution_count": 3,
      "outputs": []
    },
    {
      "cell_type": "code",
      "source": [
        "df.head()"
      ],
      "metadata": {
        "colab": {
          "base_uri": "https://localhost:8080/",
          "height": 206
        },
        "id": "RzHb6InY8oiV",
        "outputId": "009b44f1-3522-4deb-ce9e-ef2ee005bd24"
      },
      "execution_count": 4,
      "outputs": [
        {
          "output_type": "execute_result",
          "data": {
            "text/plain": [
              "                                                text    labels\n",
              "0  Ad sales boost Time Warner profit\\n\\nQuarterly...  business\n",
              "1  Dollar gains on Greenspan speech\\n\\nThe dollar...  business\n",
              "2  Yukos unit buyer faces loan claim\\n\\nThe owner...  business\n",
              "3  High fuel prices hit BA's profits\\n\\nBritish A...  business\n",
              "4  Pernod takeover talk lifts Domecq\\n\\nShares in...  business"
            ],
            "text/html": [
              "\n",
              "  <div id=\"df-dd4093b9-a839-4c98-a740-95b204ec1b8c\">\n",
              "    <div class=\"colab-df-container\">\n",
              "      <div>\n",
              "<style scoped>\n",
              "    .dataframe tbody tr th:only-of-type {\n",
              "        vertical-align: middle;\n",
              "    }\n",
              "\n",
              "    .dataframe tbody tr th {\n",
              "        vertical-align: top;\n",
              "    }\n",
              "\n",
              "    .dataframe thead th {\n",
              "        text-align: right;\n",
              "    }\n",
              "</style>\n",
              "<table border=\"1\" class=\"dataframe\">\n",
              "  <thead>\n",
              "    <tr style=\"text-align: right;\">\n",
              "      <th></th>\n",
              "      <th>text</th>\n",
              "      <th>labels</th>\n",
              "    </tr>\n",
              "  </thead>\n",
              "  <tbody>\n",
              "    <tr>\n",
              "      <th>0</th>\n",
              "      <td>Ad sales boost Time Warner profit\\n\\nQuarterly...</td>\n",
              "      <td>business</td>\n",
              "    </tr>\n",
              "    <tr>\n",
              "      <th>1</th>\n",
              "      <td>Dollar gains on Greenspan speech\\n\\nThe dollar...</td>\n",
              "      <td>business</td>\n",
              "    </tr>\n",
              "    <tr>\n",
              "      <th>2</th>\n",
              "      <td>Yukos unit buyer faces loan claim\\n\\nThe owner...</td>\n",
              "      <td>business</td>\n",
              "    </tr>\n",
              "    <tr>\n",
              "      <th>3</th>\n",
              "      <td>High fuel prices hit BA's profits\\n\\nBritish A...</td>\n",
              "      <td>business</td>\n",
              "    </tr>\n",
              "    <tr>\n",
              "      <th>4</th>\n",
              "      <td>Pernod takeover talk lifts Domecq\\n\\nShares in...</td>\n",
              "      <td>business</td>\n",
              "    </tr>\n",
              "  </tbody>\n",
              "</table>\n",
              "</div>\n",
              "      <button class=\"colab-df-convert\" onclick=\"convertToInteractive('df-dd4093b9-a839-4c98-a740-95b204ec1b8c')\"\n",
              "              title=\"Convert this dataframe to an interactive table.\"\n",
              "              style=\"display:none;\">\n",
              "        \n",
              "  <svg xmlns=\"http://www.w3.org/2000/svg\" height=\"24px\"viewBox=\"0 0 24 24\"\n",
              "       width=\"24px\">\n",
              "    <path d=\"M0 0h24v24H0V0z\" fill=\"none\"/>\n",
              "    <path d=\"M18.56 5.44l.94 2.06.94-2.06 2.06-.94-2.06-.94-.94-2.06-.94 2.06-2.06.94zm-11 1L8.5 8.5l.94-2.06 2.06-.94-2.06-.94L8.5 2.5l-.94 2.06-2.06.94zm10 10l.94 2.06.94-2.06 2.06-.94-2.06-.94-.94-2.06-.94 2.06-2.06.94z\"/><path d=\"M17.41 7.96l-1.37-1.37c-.4-.4-.92-.59-1.43-.59-.52 0-1.04.2-1.43.59L10.3 9.45l-7.72 7.72c-.78.78-.78 2.05 0 2.83L4 21.41c.39.39.9.59 1.41.59.51 0 1.02-.2 1.41-.59l7.78-7.78 2.81-2.81c.8-.78.8-2.07 0-2.86zM5.41 20L4 18.59l7.72-7.72 1.47 1.35L5.41 20z\"/>\n",
              "  </svg>\n",
              "      </button>\n",
              "      \n",
              "  <style>\n",
              "    .colab-df-container {\n",
              "      display:flex;\n",
              "      flex-wrap:wrap;\n",
              "      gap: 12px;\n",
              "    }\n",
              "\n",
              "    .colab-df-convert {\n",
              "      background-color: #E8F0FE;\n",
              "      border: none;\n",
              "      border-radius: 50%;\n",
              "      cursor: pointer;\n",
              "      display: none;\n",
              "      fill: #1967D2;\n",
              "      height: 32px;\n",
              "      padding: 0 0 0 0;\n",
              "      width: 32px;\n",
              "    }\n",
              "\n",
              "    .colab-df-convert:hover {\n",
              "      background-color: #E2EBFA;\n",
              "      box-shadow: 0px 1px 2px rgba(60, 64, 67, 0.3), 0px 1px 3px 1px rgba(60, 64, 67, 0.15);\n",
              "      fill: #174EA6;\n",
              "    }\n",
              "\n",
              "    [theme=dark] .colab-df-convert {\n",
              "      background-color: #3B4455;\n",
              "      fill: #D2E3FC;\n",
              "    }\n",
              "\n",
              "    [theme=dark] .colab-df-convert:hover {\n",
              "      background-color: #434B5C;\n",
              "      box-shadow: 0px 1px 3px 1px rgba(0, 0, 0, 0.15);\n",
              "      filter: drop-shadow(0px 1px 2px rgba(0, 0, 0, 0.3));\n",
              "      fill: #FFFFFF;\n",
              "    }\n",
              "  </style>\n",
              "\n",
              "      <script>\n",
              "        const buttonEl =\n",
              "          document.querySelector('#df-dd4093b9-a839-4c98-a740-95b204ec1b8c button.colab-df-convert');\n",
              "        buttonEl.style.display =\n",
              "          google.colab.kernel.accessAllowed ? 'block' : 'none';\n",
              "\n",
              "        async function convertToInteractive(key) {\n",
              "          const element = document.querySelector('#df-dd4093b9-a839-4c98-a740-95b204ec1b8c');\n",
              "          const dataTable =\n",
              "            await google.colab.kernel.invokeFunction('convertToInteractive',\n",
              "                                                     [key], {});\n",
              "          if (!dataTable) return;\n",
              "\n",
              "          const docLinkHtml = 'Like what you see? Visit the ' +\n",
              "            '<a target=\"_blank\" href=https://colab.research.google.com/notebooks/data_table.ipynb>data table notebook</a>'\n",
              "            + ' to learn more about interactive tables.';\n",
              "          element.innerHTML = '';\n",
              "          dataTable['output_type'] = 'display_data';\n",
              "          await google.colab.output.renderOutput(dataTable, element);\n",
              "          const docLink = document.createElement('div');\n",
              "          docLink.innerHTML = docLinkHtml;\n",
              "          element.appendChild(docLink);\n",
              "        }\n",
              "      </script>\n",
              "    </div>\n",
              "  </div>\n",
              "  "
            ]
          },
          "metadata": {},
          "execution_count": 4
        }
      ]
    },
    {
      "cell_type": "code",
      "source": [
        "df[\"targets\"] = df[\"labels\"].astype(\"category\").cat.codes\n",
        "K = df[\"targets\"].max() + 1\n",
        "K"
      ],
      "metadata": {
        "id": "KVbBViyU8wKO",
        "colab": {
          "base_uri": "https://localhost:8080/"
        },
        "outputId": "f32e0d68-3974-49ae-d0dc-a58d46d0d4f1"
      },
      "execution_count": 5,
      "outputs": [
        {
          "output_type": "execute_result",
          "data": {
            "text/plain": [
              "5"
            ]
          },
          "metadata": {},
          "execution_count": 5
        }
      ]
    },
    {
      "cell_type": "code",
      "source": [
        "df_train, df_test = train_test_split(df, test_size = 0.3)"
      ],
      "metadata": {
        "id": "sQY-x1Oo9AjE"
      },
      "execution_count": 6,
      "outputs": []
    },
    {
      "cell_type": "code",
      "source": [
        "# Convert sentences to sequences of tokens\n",
        "\n",
        "MAX_VOCAB_SIZE = 20000\n",
        "tokenizer = Tokenizer(num_words = MAX_VOCAB_SIZE)\n",
        "\n",
        "tokenizer.fit_on_texts(df_train[\"text\"])\n",
        "\n",
        "sequences_train = tokenizer.texts_to_sequences(df_train[\"text\"])\n",
        "sequences_test = tokenizer.texts_to_sequences(df_test[\"text\"])"
      ],
      "metadata": {
        "id": "PJZO_SuLi-tE"
      },
      "execution_count": 7,
      "outputs": []
    },
    {
      "cell_type": "code",
      "source": [
        "word2idx = tokenizer.word_index\n",
        "\n",
        "V = len(word2idx)\n",
        "\n",
        "print(\"Total words found\", V)"
      ],
      "metadata": {
        "id": "HrDs8zIhYHWR",
        "colab": {
          "base_uri": "https://localhost:8080/"
        },
        "outputId": "64908035-ae41-406f-a713-076c93ccbc8a"
      },
      "execution_count": 8,
      "outputs": [
        {
          "output_type": "stream",
          "name": "stdout",
          "text": [
            "Total words found 27749\n"
          ]
        }
      ]
    },
    {
      "cell_type": "code",
      "source": [
        "data_train = pad_sequences(sequences_train)\n",
        "print(\"Shape of data train tensor is\", data_train.shape)\n",
        "\n",
        "T = data_train.shape[1]\n",
        "\n",
        "data_test = pad_sequences(sequences_test, maxlen = T)\n",
        "print(\"Shape of data test tensor is\", data_test.shape)"
      ],
      "metadata": {
        "colab": {
          "base_uri": "https://localhost:8080/"
        },
        "id": "RWAZqDrfhd1d",
        "outputId": "92c6efc3-98e8-4211-e6c3-5b9a26bb91c7"
      },
      "execution_count": 9,
      "outputs": [
        {
          "output_type": "stream",
          "name": "stdout",
          "text": [
            "Shape of data train tensor is (1557, 3395)\n",
            "Shape of data test tensor is (668, 3395)\n"
          ]
        }
      ]
    },
    {
      "cell_type": "code",
      "source": [
        "# Embedding dim = 50 because I can\n",
        "D = 20"
      ],
      "metadata": {
        "id": "q-Qu8t-wjg_i"
      },
      "execution_count": 19,
      "outputs": []
    },
    {
      "cell_type": "code",
      "source": [
        "i = Input(shape = (T,))\n",
        "x = Embedding(V + 1, D)(i)\n",
        "x = Conv1D(32, 3, activation = \"relu\")(x)\n",
        "x  = MaxPooling1D(3)(x)\n",
        "x = Conv1D(64, 3, activation = \"relu\")(x)\n",
        "x  = MaxPooling1D(3)(x)\n",
        "x = Conv1D(128, 3, activation = \"relu\")(x)\n",
        "x = GlobalMaxPooling1D()(x)\n",
        "x = Dense(K)(x)\n",
        "\n",
        "model = Model(i, x)\n"
      ],
      "metadata": {
        "id": "i3nlDzNuj_8i"
      },
      "execution_count": 26,
      "outputs": []
    },
    {
      "cell_type": "code",
      "source": [
        "model.summary()"
      ],
      "metadata": {
        "colab": {
          "base_uri": "https://localhost:8080/"
        },
        "id": "W1g4K0v3fzDw",
        "outputId": "a40791cd-bf84-481b-a34e-a934869cabb0"
      },
      "execution_count": 27,
      "outputs": [
        {
          "output_type": "stream",
          "name": "stdout",
          "text": [
            "Model: \"model_2\"\n",
            "_________________________________________________________________\n",
            " Layer (type)                Output Shape              Param #   \n",
            "=================================================================\n",
            " input_3 (InputLayer)        [(None, 3395)]            0         \n",
            "                                                                 \n",
            " embedding_2 (Embedding)     (None, 3395, 20)          555000    \n",
            "                                                                 \n",
            " conv1d_2 (Conv1D)           (None, 3393, 32)          1952      \n",
            "                                                                 \n",
            " max_pooling1d (MaxPooling1D  (None, 1131, 32)         0         \n",
            " )                                                               \n",
            "                                                                 \n",
            " conv1d_3 (Conv1D)           (None, 1129, 64)          6208      \n",
            "                                                                 \n",
            " max_pooling1d_1 (MaxPooling  (None, 376, 64)          0         \n",
            " 1D)                                                             \n",
            "                                                                 \n",
            " conv1d_4 (Conv1D)           (None, 374, 128)          24704     \n",
            "                                                                 \n",
            " global_max_pooling1d_2 (Glo  (None, 128)              0         \n",
            " balMaxPooling1D)                                                \n",
            "                                                                 \n",
            " dense_2 (Dense)             (None, 5)                 645       \n",
            "                                                                 \n",
            "=================================================================\n",
            "Total params: 588,509\n",
            "Trainable params: 588,509\n",
            "Non-trainable params: 0\n",
            "_________________________________________________________________\n"
          ]
        }
      ]
    },
    {
      "cell_type": "code",
      "source": [
        "model.compile(\n",
        "    loss = SparseCategoricalCrossentropy(from_logits = \"True\"),\n",
        "    optimizer = \"Adam\",\n",
        "    metrics = [\"accuracy\"]\n",
        ")"
      ],
      "metadata": {
        "id": "Zmg-mMmDlK6a"
      },
      "execution_count": 28,
      "outputs": []
    },
    {
      "cell_type": "code",
      "source": [
        "r = model.fit(data_train, df_train[\"targets\"], epochs = 25, validation_data = (data_test, df_test[\"targets\"]))"
      ],
      "metadata": {
        "id": "-0pbPaBhil1D",
        "colab": {
          "base_uri": "https://localhost:8080/"
        },
        "outputId": "f12b2cde-ab78-48a7-9db5-36119db2a859"
      },
      "execution_count": 29,
      "outputs": [
        {
          "output_type": "stream",
          "name": "stdout",
          "text": [
            "Epoch 1/25\n",
            "49/49 [==============================] - 1s 17ms/step - loss: 1.6006 - accuracy: 0.2370 - val_loss: 1.6055 - val_accuracy: 0.1916\n",
            "Epoch 2/25\n",
            "49/49 [==============================] - 1s 11ms/step - loss: 1.5418 - accuracy: 0.2762 - val_loss: 1.4124 - val_accuracy: 0.4760\n",
            "Epoch 3/25\n",
            "49/49 [==============================] - 1s 13ms/step - loss: 0.8220 - accuracy: 0.7200 - val_loss: 0.5150 - val_accuracy: 0.7874\n",
            "Epoch 4/25\n",
            "49/49 [==============================] - 1s 13ms/step - loss: 0.2537 - accuracy: 0.9171 - val_loss: 0.3269 - val_accuracy: 0.8847\n",
            "Epoch 5/25\n",
            "49/49 [==============================] - 1s 12ms/step - loss: 0.0621 - accuracy: 0.9859 - val_loss: 0.2867 - val_accuracy: 0.9087\n",
            "Epoch 6/25\n",
            "49/49 [==============================] - 1s 12ms/step - loss: 0.0123 - accuracy: 0.9987 - val_loss: 0.3159 - val_accuracy: 0.9027\n",
            "Epoch 7/25\n",
            "49/49 [==============================] - 1s 12ms/step - loss: 0.0037 - accuracy: 1.0000 - val_loss: 0.2738 - val_accuracy: 0.9192\n",
            "Epoch 8/25\n",
            "49/49 [==============================] - 1s 12ms/step - loss: 0.0020 - accuracy: 1.0000 - val_loss: 0.2714 - val_accuracy: 0.9207\n",
            "Epoch 9/25\n",
            "49/49 [==============================] - 1s 12ms/step - loss: 0.0014 - accuracy: 1.0000 - val_loss: 0.2677 - val_accuracy: 0.9222\n",
            "Epoch 10/25\n",
            "49/49 [==============================] - 1s 12ms/step - loss: 0.0010 - accuracy: 1.0000 - val_loss: 0.2751 - val_accuracy: 0.9192\n",
            "Epoch 11/25\n",
            "49/49 [==============================] - 1s 11ms/step - loss: 8.1635e-04 - accuracy: 1.0000 - val_loss: 0.2749 - val_accuracy: 0.9207\n",
            "Epoch 12/25\n",
            "49/49 [==============================] - 1s 13ms/step - loss: 6.5622e-04 - accuracy: 1.0000 - val_loss: 0.2760 - val_accuracy: 0.9207\n",
            "Epoch 13/25\n",
            "49/49 [==============================] - 1s 12ms/step - loss: 5.3563e-04 - accuracy: 1.0000 - val_loss: 0.2756 - val_accuracy: 0.9207\n",
            "Epoch 14/25\n",
            "49/49 [==============================] - 1s 12ms/step - loss: 4.4393e-04 - accuracy: 1.0000 - val_loss: 0.2774 - val_accuracy: 0.9207\n",
            "Epoch 15/25\n",
            "49/49 [==============================] - 1s 12ms/step - loss: 3.7257e-04 - accuracy: 1.0000 - val_loss: 0.2778 - val_accuracy: 0.9222\n",
            "Epoch 16/25\n",
            "49/49 [==============================] - 1s 13ms/step - loss: 3.1606e-04 - accuracy: 1.0000 - val_loss: 0.2794 - val_accuracy: 0.9222\n",
            "Epoch 17/25\n",
            "49/49 [==============================] - 1s 11ms/step - loss: 2.7146e-04 - accuracy: 1.0000 - val_loss: 0.2826 - val_accuracy: 0.9222\n",
            "Epoch 18/25\n",
            "49/49 [==============================] - 1s 11ms/step - loss: 2.3513e-04 - accuracy: 1.0000 - val_loss: 0.2834 - val_accuracy: 0.9222\n",
            "Epoch 19/25\n",
            "49/49 [==============================] - 1s 13ms/step - loss: 2.0467e-04 - accuracy: 1.0000 - val_loss: 0.2834 - val_accuracy: 0.9222\n",
            "Epoch 20/25\n",
            "49/49 [==============================] - 1s 12ms/step - loss: 1.7987e-04 - accuracy: 1.0000 - val_loss: 0.2855 - val_accuracy: 0.9222\n",
            "Epoch 21/25\n",
            "49/49 [==============================] - 1s 13ms/step - loss: 1.5929e-04 - accuracy: 1.0000 - val_loss: 0.2855 - val_accuracy: 0.9222\n",
            "Epoch 22/25\n",
            "49/49 [==============================] - 1s 13ms/step - loss: 1.4148e-04 - accuracy: 1.0000 - val_loss: 0.2869 - val_accuracy: 0.9222\n",
            "Epoch 23/25\n",
            "49/49 [==============================] - 1s 12ms/step - loss: 1.2653e-04 - accuracy: 1.0000 - val_loss: 0.2892 - val_accuracy: 0.9222\n",
            "Epoch 24/25\n",
            "49/49 [==============================] - 1s 13ms/step - loss: 1.1344e-04 - accuracy: 1.0000 - val_loss: 0.2880 - val_accuracy: 0.9222\n",
            "Epoch 25/25\n",
            "49/49 [==============================] - 1s 11ms/step - loss: 1.0247e-04 - accuracy: 1.0000 - val_loss: 0.2902 - val_accuracy: 0.9222\n"
          ]
        }
      ]
    },
    {
      "cell_type": "code",
      "source": [
        "plt.plot(r.history[\"loss\"], label = \"train loss\")\n",
        "plt.plot(r.history[\"val_loss\"], label = \"test loss\")\n",
        "plt.legend()"
      ],
      "metadata": {
        "colab": {
          "base_uri": "https://localhost:8080/",
          "height": 282
        },
        "id": "TlYLFeFXg4k0",
        "outputId": "74589dd4-ad56-4bcb-aa9e-f33de0f4fc7a"
      },
      "execution_count": 30,
      "outputs": [
        {
          "output_type": "execute_result",
          "data": {
            "text/plain": [
              "<matplotlib.legend.Legend at 0x7f07c0eead50>"
            ]
          },
          "metadata": {},
          "execution_count": 30
        },
        {
          "output_type": "display_data",
          "data": {
            "text/plain": [
              "<Figure size 432x288 with 1 Axes>"
            ],
            "image/png": "[encoded data removed]"
          },
          "metadata": {
            "needs_background": "light"
          }
        }
      ]
    },
    {
      "cell_type": "code",
      "source": [
        "plt.plot(r.history[\"accuracy\"], label = \"train accuracy\")\n",
        "plt.plot(r.history[\"val_accuracy\"], label = \"test accuracy\")\n",
        "plt.legend()"
      ],
      "metadata": {
        "colab": {
          "base_uri": "https://localhost:8080/",
          "height": 282
        },
        "id": "ZQR-xV-6hX98",
        "outputId": "8e00c801-4039-4812-9e99-6a65858236a0"
      },
      "execution_count": 31,
      "outputs": [
        {
          "output_type": "execute_result",
          "data": {
            "text/plain": [
              "<matplotlib.legend.Legend at 0x7f07c0f543d0>"
            ]
          },
          "metadata": {},
          "execution_count": 31
        },
        {
          "output_type": "display_data",
          "data": {
            "text/plain": [
              "<Figure size 432x288 with 1 Axes>"
            ],
            "image/png": "[encoded data removed]"
          },
          "metadata": {
            "needs_background": "light"
          }
        }
      ]
    }
  ]
}