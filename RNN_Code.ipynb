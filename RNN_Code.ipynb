{
  "nbformat": 4,
  "nbformat_minor": 0,
  "metadata": {
    "colab": {
      "name": "RNN Code",
      "provenance": [],
      "authorship_tag": "ABX9TyOM0gCAv8sPHN7A+wyBsQtH",
      "include_colab_link": true
    },
    "kernelspec": {
      "name": "python3",
      "display_name": "Python 3"
    },
    "language_info": {
      "name": "python"
    },
    "accelerator": "GPU",
    "gpuClass": "standard"
  },
  "cells": [
    {
      "cell_type": "markdown",
      "metadata": {
        "id": "view-in-github",
        "colab_type": "text"
      },
      "source": [
        "<a href=\"https://colab.research.google.com/github/DrAlexSanz/nlpv2-course/blob/master/RNN_Code.ipynb\" target=\"_parent\"><img src=\"https://colab.research.google.com/assets/colab-badge.svg\" alt=\"Open In Colab\"/></a>"
      ]
    },
    {
      "cell_type": "code",
      "source": [
        "from tensorflow.keras.layers import Input, SimpleRNN, Dense, Flatten\n",
        "from tensorflow.keras.models import Model\n",
        "from tensorflow.keras.optimizers import SGD, Adam\n",
        "\n",
        "import numpy as np\n",
        "import pandas as pd\n",
        "import matplotlib.pyplot as plt"
      ],
      "metadata": {
        "id": "3t2aL2vUVdRx"
      },
      "execution_count": 32,
      "outputs": []
    },
    {
      "cell_type": "markdown",
      "source": [
        "### Sizes for recap:\n",
        "\n",
        "* N = Number of samples\n",
        "* T = Sequence length\n",
        "* D = Number of input features\n",
        "* M = Number of hidden units\n",
        "* K = Number of output units"
      ],
      "metadata": {
        "id": "kcCaHGyHV4BB"
      }
    },
    {
      "cell_type": "code",
      "source": [
        "# Make the data\n",
        "\n",
        "N = 1\n",
        "T = 10\n",
        "D = 3\n",
        "K = 2\n",
        "X = np.random.randn(N, T, D)"
      ],
      "metadata": {
        "id": "fuJUdXNLWG14"
      },
      "execution_count": 33,
      "outputs": []
    },
    {
      "cell_type": "code",
      "source": [
        "# Make an RNN\n",
        "\n",
        "M = 5\n",
        "\n",
        "i = Input(shape = (T, D))\n",
        "x = SimpleRNN(M)(i)\n",
        "x = Dense(K)(x)\n",
        "\n",
        "model = Model(i, x)"
      ],
      "metadata": {
        "id": "o0gzoMVJWW5B"
      },
      "execution_count": 34,
      "outputs": []
    },
    {
      "cell_type": "code",
      "source": [
        "# Make a useles prediction (I currently have random weights and random input). Output shape is 1x2.\n",
        "\n",
        "y_hat_rnn = model.predict(X)\n",
        "print(y_hat_rnn)"
      ],
      "metadata": {
        "colab": {
          "base_uri": "https://localhost:8080/"
        },
        "id": "1i8J5JpmWrxx",
        "outputId": "f36af0f0-89b1-4b45-8050-034561a110d1"
      },
      "execution_count": 35,
      "outputs": [
        {
          "output_type": "stream",
          "name": "stdout",
          "text": [
            "[[-0.31913444  0.56399417]]\n"
          ]
        }
      ]
    },
    {
      "cell_type": "code",
      "source": [
        "model.summary()"
      ],
      "metadata": {
        "colab": {
          "base_uri": "https://localhost:8080/"
        },
        "id": "DgJ8W2AsW9Ko",
        "outputId": "aab9bb92-2731-47b2-ef90-635a15685f05"
      },
      "execution_count": 36,
      "outputs": [
        {
          "output_type": "stream",
          "name": "stdout",
          "text": [
            "Model: \"model_3\"\n",
            "_________________________________________________________________\n",
            " Layer (type)                Output Shape              Param #   \n",
            "=================================================================\n",
            " input_4 (InputLayer)        [(None, 10, 3)]           0         \n",
            "                                                                 \n",
            " simple_rnn_3 (SimpleRNN)    (None, 5)                 45        \n",
            "                                                                 \n",
            " dense_3 (Dense)             (None, 2)                 12        \n",
            "                                                                 \n",
            "=================================================================\n",
            "Total params: 57\n",
            "Trainable params: 57\n",
            "Non-trainable params: 0\n",
            "_________________________________________________________________\n"
          ]
        }
      ]
    },
    {
      "cell_type": "code",
      "source": [
        "# Let's see the weights\n",
        "\n",
        "model.layers[1].get_weights()"
      ],
      "metadata": {
        "colab": {
          "base_uri": "https://localhost:8080/"
        },
        "id": "IKU8QThFXGkj",
        "outputId": "3a67fc4c-24ef-48f2-8a67-40f54b3839ea"
      },
      "execution_count": 37,
      "outputs": [
        {
          "output_type": "execute_result",
          "data": {
            "text/plain": [
              "[array([[-0.11042243,  0.5164575 ,  0.06171751,  0.71425337,  0.7961108 ],\n",
              "        [ 0.6931971 , -0.6224046 ,  0.7474802 ,  0.6555843 ,  0.4002568 ],\n",
              "        [ 0.4487353 , -0.7945589 ,  0.363599  ,  0.84450704,  0.8397271 ]],\n",
              "       dtype=float32),\n",
              " array([[-0.0624187 ,  0.9722994 , -0.06729289,  0.20409392, -0.06749175],\n",
              "        [-0.600134  ,  0.09844292,  0.3165816 , -0.6539168 , -0.31987035],\n",
              "        [-0.6636033 , -0.10603163, -0.6895978 ,  0.14918658,  0.22491357],\n",
              "        [-0.38153195, -0.17004135,  0.4268004 ,  0.71192306, -0.36949456],\n",
              "        [-0.22362275,  0.0691817 ,  0.4873847 ,  0.04058766,  0.8402473 ]],\n",
              "       dtype=float32),\n",
              " array([0., 0., 0., 0., 0.], dtype=float32)]"
            ]
          },
          "metadata": {},
          "execution_count": 37
        }
      ]
    },
    {
      "cell_type": "code",
      "source": [
        "# It's 3 arrays, but what about the shapes?\n",
        "\n",
        "a, b, c = model.layers[1].get_weights()\n",
        "\n",
        "# a is input --> hidden (Wx) D x M\n",
        "# b is hidden --> hidden (Wh) M x M\n",
        "# c is bias term (bh), length M\n",
        "\n",
        "print(a.shape, b.shape, c.shape)"
      ],
      "metadata": {
        "colab": {
          "base_uri": "https://localhost:8080/"
        },
        "id": "kSvVKFf3XybY",
        "outputId": "1a2cca9c-6493-449b-cdc2-ca6ec7c8c333"
      },
      "execution_count": 38,
      "outputs": [
        {
          "output_type": "stream",
          "name": "stdout",
          "text": [
            "(3, 5) (5, 5) (5,)\n"
          ]
        }
      ]
    },
    {
      "cell_type": "code",
      "source": [
        "# Now let's assign proper names to the variables\n",
        "\n",
        "Wx, Wh, bh = model.layers[1].get_weights()\n",
        "Wo, bo = model.layers[2].get_weights()"
      ],
      "metadata": {
        "id": "3mJ9MoCbYXxg"
      },
      "execution_count": 39,
      "outputs": []
    },
    {
      "cell_type": "code",
      "source": [
        "# And let's see if I can reproduce the RNN manually\n",
        "\n",
        "h_last = np.zeros(M)\n",
        "x = X[0]\n",
        "y_hats = []\n",
        "\n",
        "for t in range(T):\n",
        "    h = np.tanh(x[t].dot(Wx) + h_last.dot(Wh) + bh)\n",
        "    y = h.dot(Wo) + bo\n",
        "    y_hats.append(y)\n",
        "\n",
        "    h_last = h # For the RNN, the first is 0, then I have values\n",
        "\n",
        "print(y_hats[-1]) # These two should be the same\n",
        "print(y_hat_rnn)"
      ],
      "metadata": {
        "colab": {
          "base_uri": "https://localhost:8080/"
        },
        "id": "3ytIg6secgi3",
        "outputId": "256b13b8-2e6a-4c9c-aac2-744761cec898"
      },
      "execution_count": 40,
      "outputs": [
        {
          "output_type": "stream",
          "name": "stdout",
          "text": [
            "[-0.31913447  0.56399408]\n",
            "[[-0.31913444  0.56399417]]\n"
          ]
        }
      ]
    }
  ]
}