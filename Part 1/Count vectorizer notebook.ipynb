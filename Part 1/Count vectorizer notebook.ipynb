{
  "cells": [
    {
      "cell_type": "markdown",
      "metadata": {},
      "source": [
        "# Count Vectorizer demo"
      ]
    },
    {
      "cell_type": "code",
      "execution_count": 1,
      "metadata": {
        "id": "B1mucd5kiisR"
      },
      "outputs": [],
      "source": [
        "import numpy as np\n",
        "import pandas as pd\n",
        "from sklearn.feature_extraction.text import CountVectorizer\n",
        "from sklearn.naive_bayes import MultinomialNB\n",
        "from sklearn.model_selection import train_test_split\n",
        "\n",
        "import nltk\n",
        "from nltk import word_tokenize\n",
        "from nltk.stem import WordNetLemmatizer, PorterStemmer\n",
        "from nltk.corpus import wordnet"
      ]
    },
    {
      "cell_type": "code",
      "execution_count": 2,
      "metadata": {},
      "outputs": [
        {
          "name": "stderr",
          "output_type": "stream",
          "text": [
            "[nltk_data] Downloading package wordnet to\n",
            "[nltk_data]     C:\\Users\\sanza\\AppData\\Roaming\\nltk_data...\n",
            "[nltk_data]   Package wordnet is already up-to-date!\n",
            "[nltk_data] Downloading package punkt to\n",
            "[nltk_data]     C:\\Users\\sanza\\AppData\\Roaming\\nltk_data...\n",
            "[nltk_data]   Unzipping tokenizers\\punkt.zip.\n",
            "[nltk_data] Downloading package averaged_perceptron_tagger to\n",
            "[nltk_data]     C:\\Users\\sanza\\AppData\\Roaming\\nltk_data...\n",
            "[nltk_data]   Package averaged_perceptron_tagger is already up-to-\n",
            "[nltk_data]       date!\n"
          ]
        },
        {
          "data": {
            "text/plain": [
              "True"
            ]
          },
          "execution_count": 2,
          "metadata": {},
          "output_type": "execute_result"
        }
      ],
      "source": [
        "nltk.download(\"wordnet\")\n",
        "nltk.download(\"punkt\")\n",
        "nltk.download(\"averaged_perceptron_tagger\")"
      ]
    },
    {
      "cell_type": "code",
      "execution_count": 4,
      "metadata": {},
      "outputs": [
        {
          "data": {
            "text/html": [
              "<div>\n",
              "<style scoped>\n",
              "    .dataframe tbody tr th:only-of-type {\n",
              "        vertical-align: middle;\n",
              "    }\n",
              "\n",
              "    .dataframe tbody tr th {\n",
              "        vertical-align: top;\n",
              "    }\n",
              "\n",
              "    .dataframe thead th {\n",
              "        text-align: right;\n",
              "    }\n",
              "</style>\n",
              "<table border=\"1\" class=\"dataframe\">\n",
              "  <thead>\n",
              "    <tr style=\"text-align: right;\">\n",
              "      <th></th>\n",
              "      <th>text</th>\n",
              "      <th>labels</th>\n",
              "    </tr>\n",
              "  </thead>\n",
              "  <tbody>\n",
              "    <tr>\n",
              "      <th>0</th>\n",
              "      <td>Ad sales boost Time Warner profit\\n\\nQuarterly...</td>\n",
              "      <td>business</td>\n",
              "    </tr>\n",
              "    <tr>\n",
              "      <th>1</th>\n",
              "      <td>Dollar gains on Greenspan speech\\n\\nThe dollar...</td>\n",
              "      <td>business</td>\n",
              "    </tr>\n",
              "    <tr>\n",
              "      <th>2</th>\n",
              "      <td>Yukos unit buyer faces loan claim\\n\\nThe owner...</td>\n",
              "      <td>business</td>\n",
              "    </tr>\n",
              "    <tr>\n",
              "      <th>3</th>\n",
              "      <td>High fuel prices hit BA's profits\\n\\nBritish A...</td>\n",
              "      <td>business</td>\n",
              "    </tr>\n",
              "    <tr>\n",
              "      <th>4</th>\n",
              "      <td>Pernod takeover talk lifts Domecq\\n\\nShares in...</td>\n",
              "      <td>business</td>\n",
              "    </tr>\n",
              "  </tbody>\n",
              "</table>\n",
              "</div>"
            ],
            "text/plain": [
              "                                                text    labels\n",
              "0  Ad sales boost Time Warner profit\\n\\nQuarterly...  business\n",
              "1  Dollar gains on Greenspan speech\\n\\nThe dollar...  business\n",
              "2  Yukos unit buyer faces loan claim\\n\\nThe owner...  business\n",
              "3  High fuel prices hit BA's profits\\n\\nBritish A...  business\n",
              "4  Pernod takeover talk lifts Domecq\\n\\nShares in...  business"
            ]
          },
          "execution_count": 4,
          "metadata": {},
          "output_type": "execute_result"
        }
      ],
      "source": [
        "# This a notebook we use as a baseline: https://www.kaggle.com/datasets/shivamkushwaha/bbc-full-text-document-classification\n",
        "df = pd.read_csv(\"bbc_text_cls.csv\")\n",
        "df.head() # Each row is a full article and the second column is a class"
      ]
    },
    {
      "cell_type": "code",
      "execution_count": 5,
      "metadata": {},
      "outputs": [],
      "source": [
        "inputs = df[\"text\"]\n",
        "labels = df[\"labels\"]"
      ]
    },
    {
      "cell_type": "code",
      "execution_count": 6,
      "metadata": {},
      "outputs": [
        {
          "data": {
            "text/plain": [
              "<AxesSubplot:>"
            ]
          },
          "execution_count": 6,
          "metadata": {},
          "output_type": "execute_result"
        },
        {
          "data": {
            "image/png": "[encoded data removed]",
            "text/plain": [
              "<Figure size 720x360 with 1 Axes>"
            ]
          },
          "metadata": {
            "needs_background": "light"
          },
          "output_type": "display_data"
        }
      ],
      "source": [
        "labels.hist(figsize = (10, 5)) # It's quite balanced"
      ]
    },
    {
      "cell_type": "code",
      "execution_count": 7,
      "metadata": {},
      "outputs": [],
      "source": [
        "# Train test split BEFORE the count vectorizer, I only count on train set\n",
        "\n",
        "inputs_train, inputs_test, y_train, y_test = train_test_split(inputs, labels, random_state = 123)"
      ]
    },
    {
      "cell_type": "code",
      "execution_count": 8,
      "metadata": {},
      "outputs": [],
      "source": [
        "# Now count\n",
        "\n",
        "vectorizer = CountVectorizer()\n",
        "\n",
        "x_train = vectorizer.fit_transform(inputs_train)\n",
        "x_test = vectorizer.transform(inputs_test)"
      ]
    },
    {
      "cell_type": "code",
      "execution_count": 30,
      "metadata": {},
      "outputs": [
        {
          "name": "stdout",
          "output_type": "stream",
          "text": [
            "0.007695239935415004\n"
          ]
        },
        {
          "data": {
            "text/plain": [
              "<1668x26287 sparse matrix of type '<class 'numpy.int64'>'\n",
              "\twith 337411 stored elements in Compressed Sparse Row format>"
            ]
          },
          "execution_count": 30,
          "metadata": {},
          "output_type": "execute_result"
        }
      ],
      "source": [
        "# This will be a sparse matrix because most of the words are not used in many texts\n",
        "\n",
        "print((x_train != 0).sum()/np.prod(x_train.shape)) # This is the proportion of non-zero elements (0.8%)\n",
        "x_train"
      ]
    },
    {
      "cell_type": "code",
      "execution_count": 31,
      "metadata": {},
      "outputs": [
        {
          "name": "stdout",
          "output_type": "stream",
          "text": [
            "Train score =  0.9922062350119905\n",
            "Test score =  0.9712746858168761\n"
          ]
        }
      ],
      "source": [
        "# Now let's classify a bit\n",
        "\n",
        "model = MultinomialNB()\n",
        "\n",
        "model.fit(x_train, y_train)\n",
        "print(\"Train score = \", model.score(x_train, y_train))\n",
        "print(\"Test score = \", model.score(x_test, y_test))"
      ]
    },
    {
      "cell_type": "markdown",
      "metadata": {},
      "source": [
        "And the scores are pretty good but probably we can improve it a bit. Remove stopwords, lemmatize, etc."
      ]
    },
    {
      "cell_type": "code",
      "execution_count": 47,
      "metadata": {},
      "outputs": [
        {
          "name": "stdout",
          "output_type": "stream",
          "text": [
            "Train score =  0.9928057553956835\n",
            "Test score =  0.9766606822262118\n",
            "Size of x_train is:  (1668, 25995)\n"
          ]
        }
      ],
      "source": [
        "# With stopwords I can improve the accuracy a bit\n",
        "\n",
        "vectorizer = CountVectorizer(stop_words = \"english\")\n",
        "x_train = vectorizer.fit_transform(inputs_train)\n",
        "x_test = vectorizer.transform(inputs_test)\n",
        "model = MultinomialNB()\n",
        "model.fit(x_train, y_train)\n",
        "print(\"Train score = \", model.score(x_train, y_train))\n",
        "print(\"Test score = \", model.score(x_test, y_test))\n",
        "print(\"Size of x_train is: \", x_train.shape) # The shape will be different if we perform different stemming/lemmatization or anything like that"
      ]
    },
    {
      "cell_type": "code",
      "execution_count": 33,
      "metadata": {},
      "outputs": [],
      "source": [
        "def get_wordnet_pos(treebank_tag):\n",
        "    \"\"\"NLTK and the lemmatizer are not compatible off the shelf, convert the tags to avoid typing every time\"\"\"\n",
        "\n",
        "    if treebank_tag.startswith(\"J\"):\n",
        "        return wordnet.ADJ\n",
        "\n",
        "    if treebank_tag.startswith(\"V\"):\n",
        "        return wordnet.VERB\n",
        "\n",
        "    if treebank_tag.startswith(\"N\"):\n",
        "        return wordnet.NOUN\n",
        "\n",
        "    if treebank_tag.startswith(\"R\"):\n",
        "        return wordnet.ADV\n",
        "\n",
        "    else:\n",
        "        return wordnet.NOUN"
      ]
    },
    {
      "cell_type": "code",
      "execution_count": 37,
      "metadata": {},
      "outputs": [],
      "source": [
        "# Create a class and call it as if it was a function. I want to lemmatize and tokenize automatically in one step\n",
        "\n",
        "class LemmaTokenizer:\n",
        "    def __init__(self):\n",
        "        self.wnl = WordNetLemmatizer()\n",
        "    def __call__(self, doc):\n",
        "        tokens = word_tokenize(doc)\n",
        "        words_and_tags = nltk.pos_tag(tokens)\n",
        "        return [self.wnl.lemmatize(word, pos = get_wordnet_pos(tag)) for word, tag in words_and_tags]\n"
      ]
    },
    {
      "cell_type": "code",
      "execution_count": 46,
      "metadata": {},
      "outputs": [
        {
          "name": "stdout",
          "output_type": "stream",
          "text": [
            "Train score =  0.9922062350119905\n",
            "Test score =  0.9676840215439856\n",
            "Size of x_train is:  (1668, 26000)\n"
          ]
        }
      ],
      "source": [
        "# With lemmatization. It takes significantly longer to run (Lemmatization) but the accuracy doesn't improve\n",
        "\n",
        "vectorizer = CountVectorizer(tokenizer = LemmaTokenizer())\n",
        "x_train = vectorizer.fit_transform(inputs_train)\n",
        "x_test = vectorizer.transform(inputs_test)\n",
        "model = MultinomialNB()\n",
        "model.fit(x_train, y_train)\n",
        "print(\"Train score = \", model.score(x_train, y_train))\n",
        "print(\"Test score = \", model.score(x_test, y_test))\n",
        "print(\"Size of x_train is: \", x_train.shape)\n"
      ]
    },
    {
      "cell_type": "code",
      "execution_count": 41,
      "metadata": {},
      "outputs": [],
      "source": [
        "class StemTokenizer:\n",
        "    def __init__(self):\n",
        "        self.porter = PorterStemmer()\n",
        "    def __call__(self, doc):\n",
        "        tokens = word_tokenize(doc)\n",
        "        return [self.porter.stem(t) for t in tokens]"
      ]
    },
    {
      "cell_type": "code",
      "execution_count": 48,
      "metadata": {},
      "outputs": [
        {
          "name": "stdout",
          "output_type": "stream",
          "text": [
            "Train score =  0.9892086330935251\n",
            "Test score =  0.9694793536804309\n",
            "Size of x_train is:  (1668, 22828)\n"
          ]
        }
      ],
      "source": [
        "# With Stemming. It takes a bit longer to run (Stemming) but the accuracy doesn't improve\n",
        "\n",
        "vectorizer = CountVectorizer(tokenizer = StemTokenizer())\n",
        "x_train = vectorizer.fit_transform(inputs_train)\n",
        "x_test = vectorizer.transform(inputs_test)\n",
        "model = MultinomialNB()\n",
        "model.fit(x_train, y_train)\n",
        "print(\"Train score = \", model.score(x_train, y_train))\n",
        "print(\"Test score = \", model.score(x_test, y_test))\n",
        "print(\"Size of x_train is: \", x_train.shape)"
      ]
    },
    {
      "cell_type": "code",
      "execution_count": 43,
      "metadata": {},
      "outputs": [],
      "source": [
        "# Now try a stupid tokenizer\n",
        "\n",
        "def simple_tokenizer(s):\n",
        "    return s.split()"
      ]
    },
    {
      "cell_type": "code",
      "execution_count": 50,
      "metadata": {},
      "outputs": [
        {
          "name": "stdout",
          "output_type": "stream",
          "text": [
            "Train score =  0.9952038369304557\n",
            "Test score =  0.9712746858168761\n",
            "Size of x_train is:  (1668, 52144)\n"
          ]
        }
      ],
      "source": [
        "# Train is a bit better but the test score is the same. This is a reasonable choice\n",
        "\n",
        "vectorizer = CountVectorizer(tokenizer = simple_tokenizer)\n",
        "x_train = vectorizer.fit_transform(inputs_train)\n",
        "x_test = vectorizer.transform(inputs_test)\n",
        "model = MultinomialNB()\n",
        "model.fit(x_train, y_train)\n",
        "print(\"Train score = \", model.score(x_train, y_train))\n",
        "print(\"Test score = \", model.score(x_test, y_test))\n",
        "print(\"Size of x_train is: \", x_train.shape) # This is huge because we kept the full words"
      ]
    }
  ],
  "metadata": {
    "colab": {
      "name": "Untitled2.ipynb",
      "provenance": []
    },
    "kernelspec": {
      "display_name": "Python 3",
      "name": "python3"
    },
    "language_info": {
      "codemirror_mode": {
        "name": "ipython",
        "version": 3
      },
      "file_extension": ".py",
      "mimetype": "text/x-python",
      "name": "python",
      "nbconvert_exporter": "python",
      "pygments_lexer": "ipython3",
      "version": "3.9.7"
    }
  },
  "nbformat": 4,
  "nbformat_minor": 0
}
