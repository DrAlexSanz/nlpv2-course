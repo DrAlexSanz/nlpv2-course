{
 "cells": [
  {
   "cell_type": "markdown",
   "metadata": {},
   "source": [
    "### Definitions:\n",
    "* Tokens: words, syllables, punctuation... Basic units of speech.\n",
    "* Characters: letters, numbers, spaces, punctuations, tabs...\n",
    "    * Models will be built on tokens/words or characters.\n",
    "* Vocabulary: the set of all words that I consider in the model. The X most common words (10K/100K or whatever number)\n",
    "* Corpus: The set of all our texts. Here it's the dataset.\n",
    "* N-gram: a set of N consecutive items (tokens/words, subwords, characters...). They are particularized as unigrams, bigrams, trigrams...\n",
    "* Vectors: We can represent a word by the position in the vocabulary (\"Cipote\" = 41564) or by a vector in a vector space of dimension n (\"Cipote\" = [0.1, 0.324, .004, ..., 0.34])\n",
    "aaa\n"
   ]
  }
 ],
 "metadata": {
  "interpreter": {
   "hash": "56e898e3fe8270861e5f6ce8bb58d19ab692b9cd116c56adfa6dcc570b064cc5"
  },
  "kernelspec": {
   "display_name": "Python 3.9.7 64-bit ('ML_tests': venv)",
   "language": "python",
   "name": "python3"
  },
  "language_info": {
   "codemirror_mode": {
    "name": "ipython",
    "version": 3
   },
   "file_extension": ".py",
   "mimetype": "text/x-python",
   "name": "python",
   "nbconvert_exporter": "python",
   "pygments_lexer": "ipython3",
   "version": "3.9.7"
  },
  "orig_nbformat": 4
 },
 "nbformat": 4,
 "nbformat_minor": 2
}
