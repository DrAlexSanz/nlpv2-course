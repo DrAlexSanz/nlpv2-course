{
  "nbformat": 4,
  "nbformat_minor": 0,
  "metadata": {
    "colab": {
      "provenance": [],
      "authorship_tag": "ABX9TyPHCevz+KknZmxUoKi9fExX",
      "include_colab_link": true
    },
    "kernelspec": {
      "name": "python3",
      "display_name": "Python 3"
    },
    "language_info": {
      "name": "python"
    },
    "gpuClass": "standard"
  },
  "cells": [
    {
      "cell_type": "markdown",
      "metadata": {
        "id": "view-in-github",
        "colab_type": "text"
      },
      "source": [
        "<a href=\"https://colab.research.google.com/github/DrAlexSanz/nlpv2-course/blob/master/POS_tagging_in_tf.ipynb\" target=\"_parent\"><img src=\"https://colab.research.google.com/assets/colab-badge.svg\" alt=\"Open In Colab\"/></a>"
      ]
    },
    {
      "cell_type": "markdown",
      "source": [
        "Let's do text classification with a simple RNN and then put a GRU and LSTM\n"
      ],
      "metadata": {
        "id": "EkIyGFIgc9aV"
      }
    },
    {
      "cell_type": "code",
      "source": [
        "import numpy as np\n",
        "import pandas as pd\n",
        "import tensorflow as tf\n",
        "import matplotlib.pyplot as plt\n",
        "\n",
        "from tensorflow.keras.preprocessing.text import Tokenizer\n",
        "from tensorflow.keras.preprocessing.sequence import pad_sequences\n",
        "from tensorflow.keras.layers import Dense, Input, GlobalMaxPooling1D, Bidirectional\n",
        "from tensorflow.keras.layers import LSTM, GRU, SimpleRNN, Embedding\n",
        "from tensorflow.keras.models import Model\n",
        "from tensorflow.keras.losses import SparseCategoricalCrossentropy\n",
        "\n",
        "from sklearn.model_selection import train_test_split"
      ],
      "metadata": {
        "id": "P4E0-UewfHHk"
      },
      "execution_count": 1,
      "outputs": []
    },
    {
      "cell_type": "code",
      "source": [
        "import nltk\n",
        "from nltk.corpus import brown"
      ],
      "metadata": {
        "id": "V-tEME7nFSdU"
      },
      "execution_count": 2,
      "outputs": []
    },
    {
      "cell_type": "code",
      "source": [
        "nltk.download(\"brown\")\n",
        "nltk.download(\"universal_tagset\")"
      ],
      "metadata": {
        "id": "IHrNGoCffd9c",
        "colab": {
          "base_uri": "https://localhost:8080/"
        },
        "outputId": "22250909-2458-417e-e095-362d6840c30c"
      },
      "execution_count": 3,
      "outputs": [
        {
          "output_type": "stream",
          "name": "stderr",
          "text": [
            "[nltk_data] Downloading package brown to /root/nltk_data...\n",
            "[nltk_data]   Unzipping corpora/brown.zip.\n",
            "[nltk_data] Downloading package universal_tagset to /root/nltk_data...\n",
            "[nltk_data]   Unzipping taggers/universal_tagset.zip.\n"
          ]
        },
        {
          "output_type": "execute_result",
          "data": {
            "text/plain": [
              "True"
            ]
          },
          "metadata": {},
          "execution_count": 3
        }
      ]
    },
    {
      "cell_type": "code",
      "source": [
        "corpus = brown.tagged_sents(tagset = \"universal\")"
      ],
      "metadata": {
        "id": "KMuBDBpyfk27"
      },
      "execution_count": 4,
      "outputs": []
    },
    {
      "cell_type": "code",
      "source": [
        "corpus"
      ],
      "metadata": {
        "colab": {
          "base_uri": "https://localhost:8080/"
        },
        "id": "eoENIjUtjL3f",
        "outputId": "c5e21257-93f8-44c1-fed2-2d85d10a2353"
      },
      "execution_count": 5,
      "outputs": [
        {
          "output_type": "execute_result",
          "data": {
            "text/plain": [
              "[[('The', 'DET'), ('Fulton', 'NOUN'), ('County', 'NOUN'), ('Grand', 'ADJ'), ('Jury', 'NOUN'), ('said', 'VERB'), ('Friday', 'NOUN'), ('an', 'DET'), ('investigation', 'NOUN'), ('of', 'ADP'), (\"Atlanta's\", 'NOUN'), ('recent', 'ADJ'), ('primary', 'NOUN'), ('election', 'NOUN'), ('produced', 'VERB'), ('``', '.'), ('no', 'DET'), ('evidence', 'NOUN'), (\"''\", '.'), ('that', 'ADP'), ('any', 'DET'), ('irregularities', 'NOUN'), ('took', 'VERB'), ('place', 'NOUN'), ('.', '.')], [('The', 'DET'), ('jury', 'NOUN'), ('further', 'ADV'), ('said', 'VERB'), ('in', 'ADP'), ('term-end', 'NOUN'), ('presentments', 'NOUN'), ('that', 'ADP'), ('the', 'DET'), ('City', 'NOUN'), ('Executive', 'ADJ'), ('Committee', 'NOUN'), (',', '.'), ('which', 'DET'), ('had', 'VERB'), ('over-all', 'ADJ'), ('charge', 'NOUN'), ('of', 'ADP'), ('the', 'DET'), ('election', 'NOUN'), (',', '.'), ('``', '.'), ('deserves', 'VERB'), ('the', 'DET'), ('praise', 'NOUN'), ('and', 'CONJ'), ('thanks', 'NOUN'), ('of', 'ADP'), ('the', 'DET'), ('City', 'NOUN'), ('of', 'ADP'), ('Atlanta', 'NOUN'), (\"''\", '.'), ('for', 'ADP'), ('the', 'DET'), ('manner', 'NOUN'), ('in', 'ADP'), ('which', 'DET'), ('the', 'DET'), ('election', 'NOUN'), ('was', 'VERB'), ('conducted', 'VERB'), ('.', '.')], ...]"
            ]
          },
          "metadata": {},
          "execution_count": 5
        }
      ]
    },
    {
      "cell_type": "code",
      "source": [
        "len(corpus)"
      ],
      "metadata": {
        "colab": {
          "base_uri": "https://localhost:8080/"
        },
        "id": "-S6olXgQfrGz",
        "outputId": "eaac053c-66c1-4200-a6d5-e8536c186d4b"
      },
      "execution_count": 6,
      "outputs": [
        {
          "output_type": "execute_result",
          "data": {
            "text/plain": [
              "57340"
            ]
          },
          "metadata": {},
          "execution_count": 6
        }
      ]
    },
    {
      "cell_type": "code",
      "source": [
        "# Separate the list of lists of tuples in two lists\n",
        "\n",
        "inputs = []\n",
        "targets = []\n",
        "\n",
        "for sentence_tag_pairs in corpus:\n",
        "    tokens = []\n",
        "    target = []\n",
        "\n",
        "    for token, tag in sentence_tag_pairs:\n",
        "        tokens.append(token)\n",
        "        target.append(tag)\n",
        "    inputs.append(tokens)\n",
        "    targets.append(target)"
      ],
      "metadata": {
        "id": "DwFyKZea5KRl"
      },
      "execution_count": 7,
      "outputs": []
    },
    {
      "cell_type": "code",
      "source": [
        "train_inputs, test_inputs, train_targets, test_targets = train_test_split(inputs, targets, test_size = 0.3)"
      ],
      "metadata": {
        "id": "BbOnJfvmf-ub"
      },
      "execution_count": 8,
      "outputs": []
    },
    {
      "cell_type": "code",
      "source": [
        "# Convert sentences to sequences\n",
        "MAX_VOCAB_SIZE = None # Get a unique tag for each word (no UNK)\n",
        "\n",
        "should_lowercase = False\n",
        "\n",
        "word_tokenizer = Tokenizer(num_words = MAX_VOCAB_SIZE, lower = should_lowercase, oov_token = \"<UNK>\") # Otherwise unks will be removed and len(input) != len(output). Then I get a misalignment in the outputs. Word 3 would get tag 4 and so on.\n",
        "word_tokenizer.fit_on_texts(train_inputs)\n",
        "train_inputs_int = word_tokenizer.texts_to_sequences(train_inputs)\n",
        "test_inputs_int = word_tokenizer.texts_to_sequences(test_inputs)"
      ],
      "metadata": {
        "id": "KCtff9--5jWw"
      },
      "execution_count": 9,
      "outputs": []
    },
    {
      "cell_type": "code",
      "source": [
        "# Get the word to integer mapping\n",
        "\n",
        "word2idx = word_tokenizer.word_index\n",
        "V = len(word2idx)\n",
        "print(\"There are %s unique tokens\" %V)"
      ],
      "metadata": {
        "colab": {
          "base_uri": "https://localhost:8080/"
        },
        "id": "RzkPqGOV57qq",
        "outputId": "42ef26da-efbd-4eb8-c6db-bd46d488d0c6"
      },
      "execution_count": 10,
      "outputs": [
        {
          "output_type": "stream",
          "name": "stdout",
          "text": [
            "There are 47508 unique tokens\n"
          ]
        }
      ]
    },
    {
      "cell_type": "code",
      "source": [
        "# Useful function from stackoverflow. It's a nested loop in a list comprehension format\n",
        "\n",
        "def flatten(list_of_lists):\n",
        "    flattened = [val for sublist in list_of_lists for val in sublist]\n",
        "    return flattened"
      ],
      "metadata": {
        "id": "FkZsAsnt6QWH"
      },
      "execution_count": 11,
      "outputs": []
    },
    {
      "cell_type": "code",
      "source": [
        "all_train_targets = set(flatten(train_targets))\n",
        "all_train_targets"
      ],
      "metadata": {
        "colab": {
          "base_uri": "https://localhost:8080/"
        },
        "id": "4XJD0-DJ6nGk",
        "outputId": "2aec9552-8ecd-44ba-d64d-48858dbafd54"
      },
      "execution_count": 12,
      "outputs": [
        {
          "output_type": "execute_result",
          "data": {
            "text/plain": [
              "{'.',\n",
              " 'ADJ',\n",
              " 'ADP',\n",
              " 'ADV',\n",
              " 'CONJ',\n",
              " 'DET',\n",
              " 'NOUN',\n",
              " 'NUM',\n",
              " 'PRON',\n",
              " 'PRT',\n",
              " 'VERB',\n",
              " 'X'}"
            ]
          },
          "metadata": {},
          "execution_count": 12
        }
      ]
    },
    {
      "cell_type": "code",
      "source": [
        "all_test_targets = set(flatten(test_targets))\n",
        "all_test_targets # And they all appear on the train and test sets."
      ],
      "metadata": {
        "colab": {
          "base_uri": "https://localhost:8080/"
        },
        "id": "KH0GHOAi67P4",
        "outputId": "7b437788-3462-4826-de1f-ad8dc85b516d"
      },
      "execution_count": 13,
      "outputs": [
        {
          "output_type": "execute_result",
          "data": {
            "text/plain": [
              "{'.',\n",
              " 'ADJ',\n",
              " 'ADP',\n",
              " 'ADV',\n",
              " 'CONJ',\n",
              " 'DET',\n",
              " 'NOUN',\n",
              " 'NUM',\n",
              " 'PRON',\n",
              " 'PRT',\n",
              " 'VERB',\n",
              " 'X'}"
            ]
          },
          "metadata": {},
          "execution_count": 13
        }
      ]
    },
    {
      "cell_type": "code",
      "source": [
        "# Check that I have all the tags in the train and test set. Otherwise the model won't learn/test one of them\n",
        "\n",
        "all_train_targets == all_test_targets"
      ],
      "metadata": {
        "colab": {
          "base_uri": "https://localhost:8080/"
        },
        "id": "P_KctE-r7-uj",
        "outputId": "866dfcd5-e93f-48d0-fea4-131d85b04dd4"
      },
      "execution_count": 14,
      "outputs": [
        {
          "output_type": "execute_result",
          "data": {
            "text/plain": [
              "True"
            ]
          },
          "metadata": {},
          "execution_count": 14
        }
      ]
    },
    {
      "cell_type": "code",
      "source": [
        "# Convert targets to sequences\n",
        "\n",
        "tag_tokenizer = Tokenizer()\n",
        "tag_tokenizer.fit_on_texts(train_targets)\n",
        "train_targets_int = tag_tokenizer.texts_to_sequences(train_targets)\n",
        "test_targets_int =tag_tokenizer.texts_to_sequences(test_targets)\n",
        "\n",
        "# Save for later\n",
        "\n",
        "train_targets_int_unpadded = train_targets_int\n",
        "test_targets_int_unpadded = test_targets_int"
      ],
      "metadata": {
        "id": "QVajrcxZ7nNZ"
      },
      "execution_count": 15,
      "outputs": []
    },
    {
      "cell_type": "code",
      "source": [
        "# Before padding: find max document length. Otherwise we can truncate inputs and that also would truncate targets\n",
        "\n",
        "max_len_train = max(len(sent) for sent in train_inputs)\n",
        "max_len_test = max(len(sent) for sent in test_inputs)\n",
        "T = max((max_len_train, max_len_test))\n",
        "max_len_train, max_len_test, T"
      ],
      "metadata": {
        "colab": {
          "base_uri": "https://localhost:8080/"
        },
        "id": "sGb8BZ0w7zjI",
        "outputId": "8d5c56d9-7ae6-41e3-bc3f-02933269489a"
      },
      "execution_count": 16,
      "outputs": [
        {
          "output_type": "execute_result",
          "data": {
            "text/plain": [
              "(172, 180, 180)"
            ]
          },
          "metadata": {},
          "execution_count": 16
        }
      ]
    },
    {
      "cell_type": "code",
      "source": [
        "# pad the sequences\n",
        "train_inputs_int = pad_sequences(train_inputs_int, maxlen = T)\n",
        "print(\"Shape of training data\", train_inputs_int.shape)"
      ],
      "metadata": {
        "colab": {
          "base_uri": "https://localhost:8080/"
        },
        "id": "sRx9zrjMJXh-",
        "outputId": "34c41f0c-fc87-4848-bac0-7f6ba6fb5de3"
      },
      "execution_count": 17,
      "outputs": [
        {
          "output_type": "stream",
          "name": "stdout",
          "text": [
            "Shape of training data (40138, 180)\n"
          ]
        }
      ]
    },
    {
      "cell_type": "code",
      "source": [
        "# pad the sequences\n",
        "test_inputs_int = pad_sequences(test_inputs_int, maxlen = T)\n",
        "print(\"Shape of test data\", test_inputs_int.shape)"
      ],
      "metadata": {
        "colab": {
          "base_uri": "https://localhost:8080/"
        },
        "id": "ZYLi0YL7KcUb",
        "outputId": "571049c2-6b09-42b0-967c-943496e0ac74"
      },
      "execution_count": 18,
      "outputs": [
        {
          "output_type": "stream",
          "name": "stdout",
          "text": [
            "Shape of test data (17202, 180)\n"
          ]
        }
      ]
    },
    {
      "cell_type": "code",
      "source": [
        "# pad the tags too\n",
        "train_targets_int = pad_sequences(train_targets_int, maxlen = T)\n",
        "print(\"Shape of training tags\", train_targets_int.shape)\n",
        "\n",
        "# pad the tags too\n",
        "test_targets_int = pad_sequences(test_targets_int, maxlen = T)\n",
        "print(\"Shape of test tags\", test_targets_int.shape)"
      ],
      "metadata": {
        "colab": {
          "base_uri": "https://localhost:8080/"
        },
        "id": "bDOOYQRTKiPg",
        "outputId": "8549e2c3-28af-41fc-89be-fcd0625e2707"
      },
      "execution_count": 19,
      "outputs": [
        {
          "output_type": "stream",
          "name": "stdout",
          "text": [
            "Shape of training tags (40138, 180)\n",
            "Shape of test tags (17202, 180)\n"
          ]
        }
      ]
    },
    {
      "cell_type": "code",
      "source": [
        "# Number of classes\n",
        "\n",
        "K = len(tag_tokenizer.word_index) + 1\n",
        "K"
      ],
      "metadata": {
        "colab": {
          "base_uri": "https://localhost:8080/"
        },
        "id": "LI9zcapeK0oe",
        "outputId": "82beb332-61e6-4b87-9a28-dd83443d8628"
      },
      "execution_count": 20,
      "outputs": [
        {
          "output_type": "execute_result",
          "data": {
            "text/plain": [
              "13"
            ]
          },
          "metadata": {},
          "execution_count": 20
        }
      ]
    },
    {
      "cell_type": "code",
      "source": [
        "# Define model\n",
        "\n",
        "D = 13 # Because I can\n",
        "\n",
        "i = Input(shape = (T,))\n",
        "# mask_zero = True is much slower in GPU than CPU. Use CPU runtime\n",
        "x = Embedding(V + 1, D, mask_zero = True)(i) # Ignore the zeros because that's a padding. Alternatively, build my own loss function and forget about this.\n",
        "x = Bidirectional(LSTM(32, return_sequences = True))(x) # Bidirectional may help\n",
        "x = Dense(K)(x)\n",
        "\n",
        "model = Model(i, x)"
      ],
      "metadata": {
        "id": "T2fCQNzwK7E_"
      },
      "execution_count": 21,
      "outputs": []
    },
    {
      "cell_type": "code",
      "source": [
        "model.summary()"
      ],
      "metadata": {
        "colab": {
          "base_uri": "https://localhost:8080/"
        },
        "id": "FFTj6J_7LmZn",
        "outputId": "b1fbacdb-8a88-4c5d-b58a-16ef00fd9ec4"
      },
      "execution_count": 22,
      "outputs": [
        {
          "output_type": "stream",
          "name": "stdout",
          "text": [
            "Model: \"model\"\n",
            "_________________________________________________________________\n",
            " Layer (type)                Output Shape              Param #   \n",
            "=================================================================\n",
            " input_1 (InputLayer)        [(None, 180)]             0         \n",
            "                                                                 \n",
            " embedding (Embedding)       (None, 180, 13)           617617    \n",
            "                                                                 \n",
            " bidirectional (Bidirectiona  (None, 180, 64)          11776     \n",
            " l)                                                              \n",
            "                                                                 \n",
            " dense (Dense)               (None, 180, 13)           845       \n",
            "                                                                 \n",
            "=================================================================\n",
            "Total params: 630,238\n",
            "Trainable params: 630,238\n",
            "Non-trainable params: 0\n",
            "_________________________________________________________________\n"
          ]
        }
      ]
    },
    {
      "cell_type": "code",
      "source": [
        "model.compile(loss = SparseCategoricalCrossentropy(from_logits = True), optimizer = \"adam\", metrics = [\"accuracy\"])"
      ],
      "metadata": {
        "id": "Dvxngob8LYn3"
      },
      "execution_count": 23,
      "outputs": []
    },
    {
      "cell_type": "code",
      "source": [
        "r = model.fit(train_inputs_int, train_targets_int, epochs = 5, validation_data = (test_inputs_int, test_targets_int))"
      ],
      "metadata": {
        "colab": {
          "base_uri": "https://localhost:8080/"
        },
        "id": "Cp5QxGXjLlrH",
        "outputId": "e04d0d56-1a35-46f1-c91f-f67e1a86dae4"
      },
      "execution_count": null,
      "outputs": [
        {
          "output_type": "stream",
          "name": "stdout",
          "text": [
            "Epoch 1/5\n",
            "1255/1255 [==============================] - 253s 201ms/step - loss: 0.0490 - accuracy: 0.8719 - val_loss: 0.0145 - val_accuracy: 0.9610\n",
            "Epoch 2/5\n",
            " 182/1255 [===>..........................] - ETA: 4:31 - loss: 0.0108 - accuracy: 0.9718"
          ]
        }
      ]
    },
    {
      "cell_type": "code",
      "source": [
        "# See the loss and accuracy evolution\n",
        "\n",
        "plt.plot(r.history[\"loss\"], label = \"train loss\")\n",
        "plt.plot(r.history[\"val_loss\"], label = \"test loss\")\n",
        "plt.legend()"
      ],
      "metadata": {
        "colab": {
          "base_uri": "https://localhost:8080/",
          "height": 282
        },
        "id": "rNHt93z2iifD",
        "outputId": "a33dd1d1-9a78-450a-9abd-438c8eb63a20"
      },
      "execution_count": 17,
      "outputs": [
        {
          "output_type": "execute_result",
          "data": {
            "text/plain": [
              "<matplotlib.legend.Legend at 0x7f35e62c0cd0>"
            ]
          },
          "metadata": {},
          "execution_count": 17
        },
        {
          "output_type": "display_data",
          "data": {
            "text/plain": [
              "<Figure size 432x288 with 1 Axes>"
            ],
            "image/png": "[encoded data removed]"
          },
          "metadata": {
            "needs_background": "light"
          }
        }
      ]
    },
    {
      "cell_type": "code",
      "source": [
        "plt.plot(r.history[\"accuracy\"], label = \"train accuracy\")\n",
        "plt.plot(r.history[\"val_accuracy\"], label = \"test accuracy\")\n",
        "plt.legend()"
      ],
      "metadata": {
        "colab": {
          "base_uri": "https://localhost:8080/",
          "height": 282
        },
        "id": "VGX8b-tBi5Bz",
        "outputId": "8ff42243-185d-4367-82e4-bec9710b04df"
      },
      "execution_count": 18,
      "outputs": [
        {
          "output_type": "execute_result",
          "data": {
            "text/plain": [
              "<matplotlib.legend.Legend at 0x7f35e625c950>"
            ]
          },
          "metadata": {},
          "execution_count": 18
        },
        {
          "output_type": "display_data",
          "data": {
            "text/plain": [
              "<Figure size 432x288 with 1 Axes>"
            ],
            "image/png": "[encoded data removed]"
          },
          "metadata": {
            "needs_background": "light"
          }
        }
      ]
    },
    {
      "cell_type": "markdown",
      "source": [
        "Looks fine, test loss is worse than train loss and accuracy is worse too. But it includes padding."
      ],
      "metadata": {
        "id": "VoumMufCjCLR"
      }
    },
    {
      "cell_type": "code",
      "source": [
        "# To do, calculate the accuracy without taking the zeroes into account."
      ],
      "metadata": {
        "id": "2IsBjvO7McOA"
      },
      "execution_count": null,
      "outputs": []
    }
  ]
}