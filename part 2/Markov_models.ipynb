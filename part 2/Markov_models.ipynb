{
  "cells": [
    {
      "cell_type": "markdown",
      "metadata": {
        "colab_type": "text",
        "id": "view-in-github"
      },
      "source": [
        "<a href=\"https://colab.research.google.com/github/DrAlexSanz/nlpv2-course/blob/master/Markov_models.ipynb\" target=\"_parent\"><img src=\"https://colab.research.google.com/assets/colab-badge.svg\" alt=\"Open In Colab\"/></a>"
      ]
    },
    {
      "cell_type": "markdown",
      "metadata": {
        "id": "0u6P4ESmE2Kz"
      },
      "source": [
        "## Theory\n",
        "\n",
        "Model a sequence as a state machine, with probabilities of transitions\n",
        "\n",
        "I will represent my language with a transition matrix and a state-probability matrix.\n",
        "\n",
        "* $A_{11}$ is the probability of going from state 1 to 1 and so on $\\frac{count(i to j)}{count(i)}$ = $\\frac{counts(\"the cat\")}{count(\"the\")}$\n",
        "\n",
        "\n",
        "* $\\pi_1$ is the state distribution = $\\frac{counts(s = 1)}{N_{words}}$ = $\\frac{counts(\"cat\")}{N_{words}}$\n",
        "\n",
        "Since we are always multiplying I can get 0 if a transition is not in the train set. I can add 1 to all the transitions to avoid that the whole thing becomes 0.\n",
        "\n",
        "Then \n",
        "\n",
        "$A_{i→j} = \\frac{count(i→j) + 1}{count(i) + M}$\n",
        "\n",
        "Where M is the number of words, then each row of $A$ adds to 1. Instead of 1 I can add $ϵ$ to avoid issues with 1, and then in the denominator I add $ϵ\\cdot M$.\n",
        "\n"
      ]
    },
    {
      "cell_type": "markdown",
      "metadata": {
        "id": "ZbHZN8XCGwn5"
      },
      "source": [
        "Since we are always multiplying and the probabilities are small, they will tend to 0. That's bad because I don't have enough resolution, but I can take logarithms and convert the multiplications to sums."
      ]
    },
    {
      "cell_type": "markdown",
      "metadata": {
        "id": "JIM7__ccKTR4"
      },
      "source": [
        "## Text classifier\n",
        "\n",
        "Given a text, tell me if it was written by Robert Frost or by Poe. I will train a Markov model for each class.\n",
        "\n",
        "![image.png](data:image/png;base64,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)"
      ]
    },
    {
      "cell_type": "markdown",
      "metadata": {
        "id": "ZmSlHW80KbJd"
      },
      "source": [
        "Now implement the classifier"
      ]
    },
    {
      "cell_type": "code",
      "execution_count": 50,
      "metadata": {
        "colab": {
          "base_uri": "https://localhost:8080/"
        },
        "id": "W7DC9N4DEz8w",
        "outputId": "db074a13-78e5-4196-f2fe-2f543c47549d"
      },
      "outputs": [
        {
          "name": "stderr",
          "output_type": "stream",
          "text": [
            "'wget' is not recognized as an internal or external command,\n",
            "operable program or batch file.\n",
            "'wget' is not recognized as an internal or external command,\n",
            "operable program or batch file.\n"
          ]
        }
      ],
      "source": [
        "# Download data\n",
        "\n",
        "!wget -nc https://raw.githubusercontent.com/lazyprogrammer/machine_learning_examples/master/hmm_class/edgar_allan_poe.txt\n",
        "\n",
        "!wget -nc https://raw.githubusercontent.com/lazyprogrammer/machine_learning_examples/master/hmm_class/robert_frost.txt"
      ]
    },
    {
      "cell_type": "code",
      "execution_count": 51,
      "metadata": {
        "id": "N_TNnaBWPC0e"
      },
      "outputs": [],
      "source": [
        "import numpy as np\n",
        "import string\n",
        "import matplotlib.pyplot as plt\n",
        "from sklearn.model_selection import train_test_split"
      ]
    },
    {
      "cell_type": "code",
      "execution_count": 52,
      "metadata": {
        "id": "Nedfr8YqPPKB"
      },
      "outputs": [],
      "source": [
        "input_files = [\"edgar_allan_poe.txt\", \"robert_frost.txt\"]"
      ]
    },
    {
      "cell_type": "markdown",
      "metadata": {
        "id": "HLM5Sw_mP8TB"
      },
      "source": [
        "### Print the head of the files to see what there is inside.\n",
        "\n",
        "Note there are capital letters, punctuation, empty lines..."
      ]
    },
    {
      "cell_type": "code",
      "execution_count": 53,
      "metadata": {
        "colab": {
          "base_uri": "https://localhost:8080/"
        },
        "id": "BJKNIGAYPpZg",
        "outputId": "03809a77-311f-4910-c0ae-21a3c1e01336"
      },
      "outputs": [
        {
          "name": "stderr",
          "output_type": "stream",
          "text": [
            "'head' is not recognized as an internal or external command,\n",
            "operable program or batch file.\n"
          ]
        }
      ],
      "source": [
        "!head edgar_allan_poe.txt"
      ]
    },
    {
      "cell_type": "code",
      "execution_count": 54,
      "metadata": {
        "colab": {
          "base_uri": "https://localhost:8080/"
        },
        "id": "QzbcBEeaPu0g",
        "outputId": "8aee7e70-8bf8-4a03-9462-2e7fe984374f"
      },
      "outputs": [
        {
          "name": "stderr",
          "output_type": "stream",
          "text": [
            "'head' is not recognized as an internal or external command,\n",
            "operable program or batch file.\n"
          ]
        }
      ],
      "source": [
        "!head robert_frost.txt"
      ]
    },
    {
      "cell_type": "markdown",
      "metadata": {
        "id": "by7tEU0nQGsQ"
      },
      "source": [
        "Create two lists, one element will be one line, and I can deal with the cleaning easily."
      ]
    },
    {
      "cell_type": "code",
      "execution_count": 55,
      "metadata": {
        "colab": {
          "base_uri": "https://localhost:8080/"
        },
        "id": "cNptP0dCQECP",
        "outputId": "8fc96c18-d364-4a76-bbe4-4e83a2117f81"
      },
      "outputs": [
        {
          "name": "stdout",
          "output_type": "stream",
          "text": [
            "Label 0 corresponds to author edgar_allan_poe.txt\n",
            "Label 1 corresponds to author robert_frost.txt\n"
          ]
        }
      ],
      "source": [
        "input_texts = []\n",
        "labels = []\n",
        "\n",
        "for label, f in enumerate(input_files):\n",
        "    print(f\"Label {label} corresponds to author {f}\")\n",
        "\n",
        "    for line in open(f):\n",
        "        line = line.rstrip().lower()\n",
        "        if line:\n",
        "            line = line.translate(str.maketrans(\"\", \"\", string.punctuation))\n",
        "\n",
        "            input_texts.append(line)\n",
        "            labels.append(label)"
      ]
    },
    {
      "cell_type": "markdown",
      "metadata": {
        "id": "CU-LBXiVWIDU"
      },
      "source": [
        "### Train/test split now, tokenize later. I should keep an UNK token."
      ]
    },
    {
      "cell_type": "code",
      "execution_count": 56,
      "metadata": {
        "id": "jVZTzydqRosU"
      },
      "outputs": [],
      "source": [
        "x_train, x_test, y_train, y_test = train_test_split(input_texts, labels)"
      ]
    },
    {
      "cell_type": "markdown",
      "metadata": {
        "id": "oKwdMC65WGdY"
      },
      "source": [
        "Check"
      ]
    },
    {
      "cell_type": "code",
      "execution_count": 57,
      "metadata": {
        "colab": {
          "base_uri": "https://localhost:8080/"
        },
        "id": "GnyWMzLLUB9i",
        "outputId": "f44fef23-7fcb-4693-9564-1991c3795c8e"
      },
      "outputs": [
        {
          "name": "stdout",
          "output_type": "stream",
          "text": [
            "1618 1618 540 540\n",
            "['drawn by their hearts passion and that tone', 'italian tones made only to be murmured', 'with a strange sound as of a harpstring broken', 'as if by eye pairs out of forty firkins', 'a passionate light such for his spirit was fit']\n",
            "[0, 0, 0, 1, 0]\n"
          ]
        }
      ],
      "source": [
        "print(len(x_train), len(y_train), len(x_test), len(y_test))\n",
        "print(x_train[:5])\n",
        "print(y_train[:5])"
      ]
    },
    {
      "cell_type": "markdown",
      "metadata": {
        "id": "nqtNLsN_WjC6"
      },
      "source": [
        "Start tokenization"
      ]
    },
    {
      "cell_type": "code",
      "execution_count": 58,
      "metadata": {
        "colab": {
          "base_uri": "https://localhost:8080/"
        },
        "id": "2PQys7IcWkxA",
        "outputId": "aa4a9061-396b-489b-a1de-2f803dabb766"
      },
      "outputs": [
        {
          "data": {
            "text/plain": [
              "2550"
            ]
          },
          "execution_count": 58,
          "metadata": {},
          "output_type": "execute_result"
        }
      ],
      "source": [
        "idx = 1\n",
        "\n",
        "word2idx = {\"UNK\": 0}\n",
        "\n",
        "# And now populate the word2idx dictionary\n",
        "\n",
        "for line in x_train:\n",
        "    tokens = line.split()\n",
        "    for word in tokens:\n",
        "        if word not in word2idx:\n",
        "            word2idx[word] = idx\n",
        "            idx += 1\n",
        "\n",
        "len(word2idx) # This will determine the size of A (State matrix). It will be len x len\n",
        "#word2idx # This is a mapping, not a count"
      ]
    },
    {
      "cell_type": "code",
      "execution_count": 59,
      "metadata": {
        "colab": {
          "base_uri": "https://localhost:8080/"
        },
        "id": "McygiOL8aFyW",
        "outputId": "138bd8cf-b69f-41e3-8a80-685b73b371ff"
      },
      "outputs": [
        {
          "name": "stdout",
          "output_type": "stream",
          "text": [
            "['to come to his house when hes gone to yours', 'here he is now this box put it away', 'to shine on us with her bright eyes ', 'nowhere but here', 'a single leaf was on a bough', 'from their deeptoned throats', 'was only adding frost to snow', 'he cant find anyone to take her place', 'not to sink under being man and wife', 'he couldnt climb that slippery slope', 'their office is to illumine and enkindle', 'a hideous throng rush out forever', 'beloved amid the earnest woes']\n",
            "[[13, 74, 13, 34, 75, 76, 77, 78, 13, 79], [80, 45, 81, 82, 83, 84, 85, 44, 86], [13, 87, 88, 89, 16, 90, 91, 92], [93, 63, 80], [17, 94, 95, 36, 88, 17, 96], [97, 3, 98, 99], [36, 12, 100, 101, 13, 102], [45, 103, 104, 105, 13, 106, 90, 107], [64, 13, 108, 109, 110, 111, 6, 112], [45, 113, 114, 7, 115, 116], [3, 117, 81, 13, 118, 6, 119], [17, 120, 121, 122, 27, 123], [124, 125, 40, 126, 127]]\n"
          ]
        }
      ],
      "source": [
        "# Now I tokenize the train/test x lists\n",
        "\n",
        "x_train_tokens = []\n",
        "x_test_tokens = []\n",
        "\n",
        "for elem in x_train: # I will never have UNKs here because I used this to create the vocab.\n",
        "    tokens = elem.split()\n",
        "    line_as_tokens = [word2idx[token] for token in tokens]\n",
        "    x_train_tokens.append(line_as_tokens)\n",
        "\n",
        "for elem in x_test: # Need to be careful with UNKs, there can be some here\n",
        "    tokens = elem.split() # This is the same\n",
        "    line_as_tokens = [word2idx.get(token, 0) for token in tokens] # Null handling again!\n",
        "    x_test_tokens.append(line_as_tokens)\n",
        "\n",
        "# Check\n",
        "print(x_train[13:26])\n",
        "print(x_train_tokens[13:26])\n"
      ]
    },
    {
      "cell_type": "code",
      "execution_count": 60,
      "metadata": {
        "id": "w-kbnhWIb-NR"
      },
      "outputs": [],
      "source": [
        "# Initialize matrices A and pi for each class\n",
        "\n",
        "V = len(word2idx)\n",
        "\n",
        "A_0 = np.ones((V, V)) # Can initialize with np.zeros, but I'm using 1-smoothing.\n",
        "pi_0 = np.ones(V)\n",
        "\n",
        "A_1 = np.ones((V, V))\n",
        "pi_1 = np.ones(V)"
      ]
    },
    {
      "cell_type": "code",
      "execution_count": 61,
      "metadata": {
        "id": "3zog7v19ceFP"
      },
      "outputs": [],
      "source": [
        "# Word counts\n",
        "\n",
        "def compute_counts(text_as_int, A, pi):\n",
        "    \"\"\"\n",
        "    Compute counts for A and pi\n",
        "    \"\"\"\n",
        "\n",
        "    for tokens in text_as_int:\n",
        "        last_idx = None\n",
        "        for idx in tokens:\n",
        "            if last_idx is None:\n",
        "                # If it's the first word in a sentence\n",
        "                pi[idx] += 1 # First word, initial state distribution\n",
        "            else:\n",
        "                A[last_idx, idx] +=1 # Not first word, we are representing a transition\n",
        "\n",
        "            last_idx = idx\n",
        "\n",
        "    return"
      ]
    },
    {
      "cell_type": "code",
      "execution_count": 62,
      "metadata": {},
      "outputs": [],
      "source": [
        "compute_counts([t for t, y in zip(x_train_tokens, y_train) if y_train == 0], A_0, pi_0) # Populate for the first class\n",
        "compute_counts([t for t, y in zip(x_train_tokens, y_train) if y_train == 1], A_1, pi_1)"
      ]
    },
    {
      "cell_type": "code",
      "execution_count": 63,
      "metadata": {},
      "outputs": [],
      "source": [
        "# Normalize the counts so we have a probability matrix instead of counts\n",
        "\n",
        "A_0 = A_0/A_0.sum(axis = 1, keepdims = True) # Divide by row sums\n",
        "pi_0 = pi_0/pi_0.sum()\n",
        "\n",
        "A_1 = A_1/A_1.sum(axis = 1, keepdims = True)\n",
        "pi_1 = pi_1/pi_1.sum()\n",
        "\n",
        "# And log p\n",
        "\n",
        "log_A_0 = np.log(A_0)\n",
        "log_pi_0 = np.log(pi_0)\n",
        "\n",
        "log_A_1 = np.log(A_1)\n",
        "log_pi_1 = np.log(pi_1)"
      ]
    },
    {
      "cell_type": "code",
      "execution_count": 64,
      "metadata": {},
      "outputs": [],
      "source": [
        "# Compute priors\n",
        "\n",
        "count_0 = sum(y == 0 for y in y_train)\n",
        "count_1 = sum(y == 1 for y in y_train)\n",
        "# I have twice the amount of 1s than 0s\n",
        "\n",
        "total = len(y_train)\n",
        "p_0 = count_0 / total\n",
        "p_1 = count_1 / total\n",
        "\n",
        "log_p_0 = np.log(p_0)\n",
        "log_p_1 = np.log(p_1)\n"
      ]
    },
    {
      "cell_type": "code",
      "execution_count": 65,
      "metadata": {},
      "outputs": [],
      "source": [
        "# Now build the classifier\n",
        "\n",
        "class Classifier:\n",
        "    def __init__(self, log_As, log_pis, log_priors):\n",
        "        self.log_As = log_As\n",
        "        self.log_pis = log_pis\n",
        "        self.log_priors = log_priors\n",
        "        self.K = len(log_priors)\n",
        "\n",
        "    def _compute_log_likelihood(self, input_, class_):\n",
        "        log_A = self.log_As[class_]\n",
        "        log_pi = self.log_pis[class_]\n",
        "\n",
        "        last_idx = None\n",
        "        log_prob = 0\n",
        "        for idx in input_:\n",
        "            if last_idx is None:\n",
        "                log_prob += log_pi[idx]\n",
        "            else:\n",
        "                log_prob += log_A[last_idx, idx]\n",
        "        \n",
        "        return log_prob\n",
        "\n",
        "    def predict(self, inputs):\n",
        "        predictions = np.zeros(len(inputs))\n",
        "        for i, input_ in enumerate(inputs):\n",
        "            posteriors = [self._compute_log_likelihood(input_, c) + self.log_priors[c] for c in range(self.K)]\n",
        "            pred = np.argmax(posteriors)\n",
        "            predictions[i] = pred\n",
        "\n",
        "        return predictions\n",
        "                "
      ]
    },
    {
      "cell_type": "code",
      "execution_count": 66,
      "metadata": {},
      "outputs": [],
      "source": [
        "clf = Classifier([log_A_0, log_A_1], [log_pi_0, log_pi_1], [log_p_0, log_p_1]) # Keep order!"
      ]
    },
    {
      "cell_type": "code",
      "execution_count": 67,
      "metadata": {},
      "outputs": [
        {
          "name": "stdout",
          "output_type": "stream",
          "text": [
            "Train accuracy: 0.669344870210136\n",
            "Test accuracy: 0.6537037037037037\n"
          ]
        }
      ],
      "source": [
        "p_train = clf.predict(x_train_tokens)\n",
        "print(f\"Train accuracy: {np.mean(p_train == y_train)}\") # It's not really learning, it's doing just a random prediction\n",
        "\n",
        "p_test = clf.predict(x_test_tokens)\n",
        "print(f\"Test accuracy: {np.mean(p_test == y_test)}\")"
      ]
    },
    {
      "cell_type": "code",
      "execution_count": null,
      "metadata": {},
      "outputs": [],
      "source": []
    }
  ],
  "metadata": {
    "colab": {
      "authorship_tag": "ABX9TyOQSLauyM8jbiKuEewwqL2p",
      "include_colab_link": true,
      "name": "Markov models.ipynb",
      "provenance": []
    },
    "interpreter": {
      "hash": "f0fe5aee4ac00dd02374c2a79b5196ede65385b1d7edbd24e38669aaafd896e6"
    },
    "kernelspec": {
      "display_name": "Python 3.9.7 64-bit ('ML_tests': venv)",
      "language": "python",
      "name": "python3"
    },
    "language_info": {
      "codemirror_mode": {
        "name": "ipython",
        "version": 3
      },
      "file_extension": ".py",
      "mimetype": "text/x-python",
      "name": "python",
      "nbconvert_exporter": "python",
      "pygments_lexer": "ipython3",
      "version": "3.9.7"
    }
  },
  "nbformat": 4,
  "nbformat_minor": 0
}
